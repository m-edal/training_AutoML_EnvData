{
  "cells": [
    {
      "cell_type": "markdown",
      "metadata": {
        "id": "H-6iYW1CMTFK"
      },
      "source": [
        "<a href=\"https://colab.research.google.com/github/m-edal/training_AutoML_EnvData/blob/main/tutorial_weather.ipynb\" target=\"_parent\"><img src=\"https://colab.research.google.com/assets/colab-badge.svg\" alt=\"Open In Colab\"/></a>"
      ]
    },
    {
      "cell_type": "markdown",
      "metadata": {
        "id": "HnC8JSBUMlqm"
      },
      "source": [
        "prepare the Python environment"
      ]
    },
    {
      "cell_type": "code",
      "execution_count": 1,
      "metadata": {
        "colab": {
          "base_uri": "https://localhost:8080/"
        },
        "collapsed": true,
        "id": "EGQHFINAMpRR",
        "outputId": "3b0ed02f-2916-4758-f24d-399d9374ae79"
      },
      "outputs": [
        {
          "output_type": "stream",
          "name": "stdout",
          "text": [
            "Collecting obswx\n",
            "  Downloading obswx-0.0.1.tar.gz (6.3 kB)\n",
            "  Preparing metadata (setup.py) ... \u001b[?25l\u001b[?25hdone\n",
            "Collecting flaml\n",
            "  Downloading FLAML-2.2.0-py3-none-any.whl.metadata (15 kB)\n",
            "Requirement already satisfied: matplotlib in /usr/local/lib/python3.10/dist-packages (3.7.1)\n",
            "Requirement already satisfied: pandas in /usr/local/lib/python3.10/dist-packages (from obswx) (2.1.4)\n",
            "Requirement already satisfied: geopy in /usr/local/lib/python3.10/dist-packages (from obswx) (2.4.1)\n",
            "Requirement already satisfied: NumPy>=1.17 in /usr/local/lib/python3.10/dist-packages (from flaml) (1.26.4)\n",
            "Requirement already satisfied: contourpy>=1.0.1 in /usr/local/lib/python3.10/dist-packages (from matplotlib) (1.2.1)\n",
            "Requirement already satisfied: cycler>=0.10 in /usr/local/lib/python3.10/dist-packages (from matplotlib) (0.12.1)\n",
            "Requirement already satisfied: fonttools>=4.22.0 in /usr/local/lib/python3.10/dist-packages (from matplotlib) (4.53.1)\n",
            "Requirement already satisfied: kiwisolver>=1.0.1 in /usr/local/lib/python3.10/dist-packages (from matplotlib) (1.4.5)\n",
            "Requirement already satisfied: packaging>=20.0 in /usr/local/lib/python3.10/dist-packages (from matplotlib) (24.1)\n",
            "Requirement already satisfied: pillow>=6.2.0 in /usr/local/lib/python3.10/dist-packages (from matplotlib) (9.4.0)\n",
            "Requirement already satisfied: pyparsing>=2.3.1 in /usr/local/lib/python3.10/dist-packages (from matplotlib) (3.1.2)\n",
            "Requirement already satisfied: python-dateutil>=2.7 in /usr/local/lib/python3.10/dist-packages (from matplotlib) (2.8.2)\n",
            "Requirement already satisfied: six>=1.5 in /usr/local/lib/python3.10/dist-packages (from python-dateutil>=2.7->matplotlib) (1.16.0)\n",
            "Requirement already satisfied: geographiclib<3,>=1.52 in /usr/local/lib/python3.10/dist-packages (from geopy->obswx) (2.0)\n",
            "Requirement already satisfied: pytz>=2020.1 in /usr/local/lib/python3.10/dist-packages (from pandas->obswx) (2024.1)\n",
            "Requirement already satisfied: tzdata>=2022.1 in /usr/local/lib/python3.10/dist-packages (from pandas->obswx) (2024.1)\n",
            "Downloading FLAML-2.2.0-py3-none-any.whl (297 kB)\n",
            "\u001b[2K   \u001b[90m━━━━━━━━━━━━━━━━━━━━━━━━━━━━━━━━━━━━━━━━\u001b[0m \u001b[32m297.2/297.2 kB\u001b[0m \u001b[31m6.1 MB/s\u001b[0m eta \u001b[36m0:00:00\u001b[0m\n",
            "\u001b[?25hBuilding wheels for collected packages: obswx\n",
            "  Building wheel for obswx (setup.py) ... \u001b[?25l\u001b[?25hdone\n",
            "  Created wheel for obswx: filename=obswx-0.0.1-py3-none-any.whl size=7093 sha256=5cfdf345b65f330bc596f5ac8b8f9ee70a456c59b217a7a5a7002560d0c31d5a\n",
            "  Stored in directory: /root/.cache/pip/wheels/8a/16/24/0afa92dfad516f43aa3723afdabe30a4b945ef700135f2e05e\n",
            "Successfully built obswx\n",
            "Installing collected packages: flaml, obswx\n",
            "Successfully installed flaml-2.2.0 obswx-0.0.1\n"
          ]
        }
      ],
      "source": [
        "!pip install obswx flaml matplotlib"
      ]
    },
    {
      "cell_type": "markdown",
      "metadata": {
        "id": "NK1bk15AMTFL"
      },
      "source": [
        "# Tutorial of AutoML for weather data\n",
        "---\n",
        "\n",
        "Junjie Yu, Zhonghua Zheng, David Topping\n",
        "\n",
        "The University of Mancherster, Manchester, UK\n",
        "\n",
        "Language: Python\n",
        "\n",
        "Packages: obswx, matplotlib, flaml, numpy, pandas, sklearn"
      ]
    },
    {
      "cell_type": "markdown",
      "metadata": {
        "id": "FeVNTLQwMTFL"
      },
      "source": [
        "- learn to process time series data\n",
        "- learn to use the flaml library"
      ]
    },
    {
      "cell_type": "markdown",
      "metadata": {
        "id": "GApArkWFrJaf"
      },
      "source": [
        "Q: What is the time serials data?\n",
        "\n",
        "A: Time series data is a sequence of data points collected at constant time intervals.\n",
        "It is used in various fields, such as finance, weather forecasting, and signal processing.\n",
        "Time series data can be analyzed to identify patterns, trends, and anomalies."
      ]
    },
    {
      "cell_type": "markdown",
      "metadata": {
        "id": "KlAu0hUbOr8I"
      },
      "source": [
        "## 0 import the libraries\n",
        "---"
      ]
    },
    {
      "cell_type": "code",
      "execution_count": 2,
      "metadata": {
        "id": "VQqvA6U6M7ql"
      },
      "outputs": [],
      "source": [
        "import warnings\n",
        "warnings.filterwarnings('ignore')\n",
        "\n",
        "from obswx import *\n",
        "import numpy as np\n",
        "from flaml import AutoML\n",
        "import matplotlib.pyplot as plt\n",
        "import numpy as np"
      ]
    },
    {
      "cell_type": "markdown",
      "metadata": {
        "id": "M_Ma5Hl0Oz0x"
      },
      "source": [
        "## 1 download the data of the interested weather station\n",
        "---\n",
        "here we use `obswx` package to load the data.\n",
        "\n",
        "Package homepage: https://envdes.github.io/obswx/index.html"
      ]
    },
    {
      "cell_type": "markdown",
      "metadata": {
        "id": "jrb_ET0UP4f1"
      },
      "source": [
        "### 1.1 download data from `obswx`"
      ]
    },
    {
      "cell_type": "markdown",
      "metadata": {
        "id": "-2OLzuWvQGDp"
      },
      "source": [
        "load the metadata.\n",
        "\n",
        "Q: what is metadata?\n",
        "\n",
        "A: The data about data."
      ]
    },
    {
      "cell_type": "code",
      "execution_count": 3,
      "metadata": {
        "colab": {
          "base_uri": "https://localhost:8080/",
          "height": 206
        },
        "id": "dm8LMkZzMTFM",
        "outputId": "ed18b038-1a66-4660-f880-3e034fb1415f"
      },
      "outputs": [
        {
          "output_type": "execute_result",
          "data": {
            "text/plain": [
              "     USAF   WBAN STATION NAME CTRY STATE ICAO    LAT     LON  ELEV(M)  \\\n",
              "0  007018  99999   WXPOD 7018  NaN   NaN  NaN   0.00   0.000   7018.0   \n",
              "1  007026  99999   WXPOD 7026   AF   NaN  NaN   0.00   0.000   7026.0   \n",
              "2  007070  99999   WXPOD 7070   AF   NaN  NaN   0.00   0.000   7070.0   \n",
              "3  008260  99999    WXPOD8270  NaN   NaN  NaN   0.00   0.000      0.0   \n",
              "4  008268  99999    WXPOD8278   AF   NaN  NaN  32.95  65.567   1156.7   \n",
              "\n",
              "      BEGIN       END  \n",
              "0  20110309  20130730  \n",
              "1  20120713  20170822  \n",
              "2  20140923  20150926  \n",
              "3  20050101  20120731  \n",
              "4  20100519  20120323  "
            ],
            "text/html": [
              "\n",
              "  <div id=\"df-2e8195d4-375a-44a5-8000-ce46da71831e\" class=\"colab-df-container\">\n",
              "    <div>\n",
              "<style scoped>\n",
              "    .dataframe tbody tr th:only-of-type {\n",
              "        vertical-align: middle;\n",
              "    }\n",
              "\n",
              "    .dataframe tbody tr th {\n",
              "        vertical-align: top;\n",
              "    }\n",
              "\n",
              "    .dataframe thead th {\n",
              "        text-align: right;\n",
              "    }\n",
              "</style>\n",
              "<table border=\"1\" class=\"dataframe\">\n",
              "  <thead>\n",
              "    <tr style=\"text-align: right;\">\n",
              "      <th></th>\n",
              "      <th>USAF</th>\n",
              "      <th>WBAN</th>\n",
              "      <th>STATION NAME</th>\n",
              "      <th>CTRY</th>\n",
              "      <th>STATE</th>\n",
              "      <th>ICAO</th>\n",
              "      <th>LAT</th>\n",
              "      <th>LON</th>\n",
              "      <th>ELEV(M)</th>\n",
              "      <th>BEGIN</th>\n",
              "      <th>END</th>\n",
              "    </tr>\n",
              "  </thead>\n",
              "  <tbody>\n",
              "    <tr>\n",
              "      <th>0</th>\n",
              "      <td>007018</td>\n",
              "      <td>99999</td>\n",
              "      <td>WXPOD 7018</td>\n",
              "      <td>NaN</td>\n",
              "      <td>NaN</td>\n",
              "      <td>NaN</td>\n",
              "      <td>0.00</td>\n",
              "      <td>0.000</td>\n",
              "      <td>7018.0</td>\n",
              "      <td>20110309</td>\n",
              "      <td>20130730</td>\n",
              "    </tr>\n",
              "    <tr>\n",
              "      <th>1</th>\n",
              "      <td>007026</td>\n",
              "      <td>99999</td>\n",
              "      <td>WXPOD 7026</td>\n",
              "      <td>AF</td>\n",
              "      <td>NaN</td>\n",
              "      <td>NaN</td>\n",
              "      <td>0.00</td>\n",
              "      <td>0.000</td>\n",
              "      <td>7026.0</td>\n",
              "      <td>20120713</td>\n",
              "      <td>20170822</td>\n",
              "    </tr>\n",
              "    <tr>\n",
              "      <th>2</th>\n",
              "      <td>007070</td>\n",
              "      <td>99999</td>\n",
              "      <td>WXPOD 7070</td>\n",
              "      <td>AF</td>\n",
              "      <td>NaN</td>\n",
              "      <td>NaN</td>\n",
              "      <td>0.00</td>\n",
              "      <td>0.000</td>\n",
              "      <td>7070.0</td>\n",
              "      <td>20140923</td>\n",
              "      <td>20150926</td>\n",
              "    </tr>\n",
              "    <tr>\n",
              "      <th>3</th>\n",
              "      <td>008260</td>\n",
              "      <td>99999</td>\n",
              "      <td>WXPOD8270</td>\n",
              "      <td>NaN</td>\n",
              "      <td>NaN</td>\n",
              "      <td>NaN</td>\n",
              "      <td>0.00</td>\n",
              "      <td>0.000</td>\n",
              "      <td>0.0</td>\n",
              "      <td>20050101</td>\n",
              "      <td>20120731</td>\n",
              "    </tr>\n",
              "    <tr>\n",
              "      <th>4</th>\n",
              "      <td>008268</td>\n",
              "      <td>99999</td>\n",
              "      <td>WXPOD8278</td>\n",
              "      <td>AF</td>\n",
              "      <td>NaN</td>\n",
              "      <td>NaN</td>\n",
              "      <td>32.95</td>\n",
              "      <td>65.567</td>\n",
              "      <td>1156.7</td>\n",
              "      <td>20100519</td>\n",
              "      <td>20120323</td>\n",
              "    </tr>\n",
              "  </tbody>\n",
              "</table>\n",
              "</div>\n",
              "    <div class=\"colab-df-buttons\">\n",
              "\n",
              "  <div class=\"colab-df-container\">\n",
              "    <button class=\"colab-df-convert\" onclick=\"convertToInteractive('df-2e8195d4-375a-44a5-8000-ce46da71831e')\"\n",
              "            title=\"Convert this dataframe to an interactive table.\"\n",
              "            style=\"display:none;\">\n",
              "\n",
              "  <svg xmlns=\"http://www.w3.org/2000/svg\" height=\"24px\" viewBox=\"0 -960 960 960\">\n",
              "    <path d=\"M120-120v-720h720v720H120Zm60-500h600v-160H180v160Zm220 220h160v-160H400v160Zm0 220h160v-160H400v160ZM180-400h160v-160H180v160Zm440 0h160v-160H620v160ZM180-180h160v-160H180v160Zm440 0h160v-160H620v160Z\"/>\n",
              "  </svg>\n",
              "    </button>\n",
              "\n",
              "  <style>\n",
              "    .colab-df-container {\n",
              "      display:flex;\n",
              "      gap: 12px;\n",
              "    }\n",
              "\n",
              "    .colab-df-convert {\n",
              "      background-color: #E8F0FE;\n",
              "      border: none;\n",
              "      border-radius: 50%;\n",
              "      cursor: pointer;\n",
              "      display: none;\n",
              "      fill: #1967D2;\n",
              "      height: 32px;\n",
              "      padding: 0 0 0 0;\n",
              "      width: 32px;\n",
              "    }\n",
              "\n",
              "    .colab-df-convert:hover {\n",
              "      background-color: #E2EBFA;\n",
              "      box-shadow: 0px 1px 2px rgba(60, 64, 67, 0.3), 0px 1px 3px 1px rgba(60, 64, 67, 0.15);\n",
              "      fill: #174EA6;\n",
              "    }\n",
              "\n",
              "    .colab-df-buttons div {\n",
              "      margin-bottom: 4px;\n",
              "    }\n",
              "\n",
              "    [theme=dark] .colab-df-convert {\n",
              "      background-color: #3B4455;\n",
              "      fill: #D2E3FC;\n",
              "    }\n",
              "\n",
              "    [theme=dark] .colab-df-convert:hover {\n",
              "      background-color: #434B5C;\n",
              "      box-shadow: 0px 1px 3px 1px rgba(0, 0, 0, 0.15);\n",
              "      filter: drop-shadow(0px 1px 2px rgba(0, 0, 0, 0.3));\n",
              "      fill: #FFFFFF;\n",
              "    }\n",
              "  </style>\n",
              "\n",
              "    <script>\n",
              "      const buttonEl =\n",
              "        document.querySelector('#df-2e8195d4-375a-44a5-8000-ce46da71831e button.colab-df-convert');\n",
              "      buttonEl.style.display =\n",
              "        google.colab.kernel.accessAllowed ? 'block' : 'none';\n",
              "\n",
              "      async function convertToInteractive(key) {\n",
              "        const element = document.querySelector('#df-2e8195d4-375a-44a5-8000-ce46da71831e');\n",
              "        const dataTable =\n",
              "          await google.colab.kernel.invokeFunction('convertToInteractive',\n",
              "                                                    [key], {});\n",
              "        if (!dataTable) return;\n",
              "\n",
              "        const docLinkHtml = 'Like what you see? Visit the ' +\n",
              "          '<a target=\"_blank\" href=https://colab.research.google.com/notebooks/data_table.ipynb>data table notebook</a>'\n",
              "          + ' to learn more about interactive tables.';\n",
              "        element.innerHTML = '';\n",
              "        dataTable['output_type'] = 'display_data';\n",
              "        await google.colab.output.renderOutput(dataTable, element);\n",
              "        const docLink = document.createElement('div');\n",
              "        docLink.innerHTML = docLinkHtml;\n",
              "        element.appendChild(docLink);\n",
              "      }\n",
              "    </script>\n",
              "  </div>\n",
              "\n",
              "\n",
              "<div id=\"df-c7f470f1-6d4a-4ff6-828d-079364e63e73\">\n",
              "  <button class=\"colab-df-quickchart\" onclick=\"quickchart('df-c7f470f1-6d4a-4ff6-828d-079364e63e73')\"\n",
              "            title=\"Suggest charts\"\n",
              "            style=\"display:none;\">\n",
              "\n",
              "<svg xmlns=\"http://www.w3.org/2000/svg\" height=\"24px\"viewBox=\"0 0 24 24\"\n",
              "     width=\"24px\">\n",
              "    <g>\n",
              "        <path d=\"M19 3H5c-1.1 0-2 .9-2 2v14c0 1.1.9 2 2 2h14c1.1 0 2-.9 2-2V5c0-1.1-.9-2-2-2zM9 17H7v-7h2v7zm4 0h-2V7h2v10zm4 0h-2v-4h2v4z\"/>\n",
              "    </g>\n",
              "</svg>\n",
              "  </button>\n",
              "\n",
              "<style>\n",
              "  .colab-df-quickchart {\n",
              "      --bg-color: #E8F0FE;\n",
              "      --fill-color: #1967D2;\n",
              "      --hover-bg-color: #E2EBFA;\n",
              "      --hover-fill-color: #174EA6;\n",
              "      --disabled-fill-color: #AAA;\n",
              "      --disabled-bg-color: #DDD;\n",
              "  }\n",
              "\n",
              "  [theme=dark] .colab-df-quickchart {\n",
              "      --bg-color: #3B4455;\n",
              "      --fill-color: #D2E3FC;\n",
              "      --hover-bg-color: #434B5C;\n",
              "      --hover-fill-color: #FFFFFF;\n",
              "      --disabled-bg-color: #3B4455;\n",
              "      --disabled-fill-color: #666;\n",
              "  }\n",
              "\n",
              "  .colab-df-quickchart {\n",
              "    background-color: var(--bg-color);\n",
              "    border: none;\n",
              "    border-radius: 50%;\n",
              "    cursor: pointer;\n",
              "    display: none;\n",
              "    fill: var(--fill-color);\n",
              "    height: 32px;\n",
              "    padding: 0;\n",
              "    width: 32px;\n",
              "  }\n",
              "\n",
              "  .colab-df-quickchart:hover {\n",
              "    background-color: var(--hover-bg-color);\n",
              "    box-shadow: 0 1px 2px rgba(60, 64, 67, 0.3), 0 1px 3px 1px rgba(60, 64, 67, 0.15);\n",
              "    fill: var(--button-hover-fill-color);\n",
              "  }\n",
              "\n",
              "  .colab-df-quickchart-complete:disabled,\n",
              "  .colab-df-quickchart-complete:disabled:hover {\n",
              "    background-color: var(--disabled-bg-color);\n",
              "    fill: var(--disabled-fill-color);\n",
              "    box-shadow: none;\n",
              "  }\n",
              "\n",
              "  .colab-df-spinner {\n",
              "    border: 2px solid var(--fill-color);\n",
              "    border-color: transparent;\n",
              "    border-bottom-color: var(--fill-color);\n",
              "    animation:\n",
              "      spin 1s steps(1) infinite;\n",
              "  }\n",
              "\n",
              "  @keyframes spin {\n",
              "    0% {\n",
              "      border-color: transparent;\n",
              "      border-bottom-color: var(--fill-color);\n",
              "      border-left-color: var(--fill-color);\n",
              "    }\n",
              "    20% {\n",
              "      border-color: transparent;\n",
              "      border-left-color: var(--fill-color);\n",
              "      border-top-color: var(--fill-color);\n",
              "    }\n",
              "    30% {\n",
              "      border-color: transparent;\n",
              "      border-left-color: var(--fill-color);\n",
              "      border-top-color: var(--fill-color);\n",
              "      border-right-color: var(--fill-color);\n",
              "    }\n",
              "    40% {\n",
              "      border-color: transparent;\n",
              "      border-right-color: var(--fill-color);\n",
              "      border-top-color: var(--fill-color);\n",
              "    }\n",
              "    60% {\n",
              "      border-color: transparent;\n",
              "      border-right-color: var(--fill-color);\n",
              "    }\n",
              "    80% {\n",
              "      border-color: transparent;\n",
              "      border-right-color: var(--fill-color);\n",
              "      border-bottom-color: var(--fill-color);\n",
              "    }\n",
              "    90% {\n",
              "      border-color: transparent;\n",
              "      border-bottom-color: var(--fill-color);\n",
              "    }\n",
              "  }\n",
              "</style>\n",
              "\n",
              "  <script>\n",
              "    async function quickchart(key) {\n",
              "      const quickchartButtonEl =\n",
              "        document.querySelector('#' + key + ' button');\n",
              "      quickchartButtonEl.disabled = true;  // To prevent multiple clicks.\n",
              "      quickchartButtonEl.classList.add('colab-df-spinner');\n",
              "      try {\n",
              "        const charts = await google.colab.kernel.invokeFunction(\n",
              "            'suggestCharts', [key], {});\n",
              "      } catch (error) {\n",
              "        console.error('Error during call to suggestCharts:', error);\n",
              "      }\n",
              "      quickchartButtonEl.classList.remove('colab-df-spinner');\n",
              "      quickchartButtonEl.classList.add('colab-df-quickchart-complete');\n",
              "    }\n",
              "    (() => {\n",
              "      let quickchartButtonEl =\n",
              "        document.querySelector('#df-c7f470f1-6d4a-4ff6-828d-079364e63e73 button');\n",
              "      quickchartButtonEl.style.display =\n",
              "        google.colab.kernel.accessAllowed ? 'block' : 'none';\n",
              "    })();\n",
              "  </script>\n",
              "</div>\n",
              "\n",
              "    </div>\n",
              "  </div>\n"
            ],
            "application/vnd.google.colaboratory.intrinsic+json": {
              "type": "dataframe",
              "repr_error": "Out of range float values are not JSON compliant: nan"
            }
          },
          "metadata": {},
          "execution_count": 3
        }
      ],
      "source": [
        "met = obswx(source='ISD')\n",
        "# Load the metadata\n",
        "met.get_meta(load=True).head() #use .head() to print 5 samples in the head of the data\n",
        "# please check https://www.ncei.noaa.gov/products/land-based-station/integrated-surface-database\n",
        "# to get more information about the table."
      ]
    },
    {
      "cell_type": "markdown",
      "metadata": {
        "id": "Qon8_diUhKOm"
      },
      "source": [
        "here we can select the weater **station** by combining USAF and WBAN\n",
        "\n",
        "03334099999: Manchester airport.\n",
        "\n",
        "Here to help select station: https://envdes.github.io/obswx/isd_map"
      ]
    },
    {
      "cell_type": "code",
      "execution_count": 4,
      "metadata": {
        "colab": {
          "base_uri": "https://localhost:8080/"
        },
        "id": "Sl_zzbSWMTFM",
        "outputId": "f10b192b-c01e-474e-932f-926217e15041"
      },
      "outputs": [
        {
          "output_type": "stream",
          "name": "stdout",
          "text": [
            "Getting data from NOAA ISD\n",
            "Here to help select station:  https://envdes.github.io/obswx/isd_map\n"
          ]
        }
      ],
      "source": [
        "df = met.get_data(year=2023, station= \"03334099999\", isd_source=\"AWS\")\n",
        "df['TMP'] = df['TMP'].replace(',','.', regex=True).astype(float) # transform the temperature to float\n",
        "df.index = pd.to_datetime(df['DATE']) # set the date as index"
      ]
    },
    {
      "cell_type": "code",
      "execution_count": 5,
      "metadata": {
        "colab": {
          "base_uri": "https://localhost:8080/",
          "height": 599
        },
        "collapsed": true,
        "id": "lFoyTGtUMTFM",
        "outputId": "55e5d3a3-0f5e-4ec5-fa71-69073d22e5c8"
      },
      "outputs": [
        {
          "output_type": "execute_result",
          "data": {
            "text/plain": [
              "                        STATION                 DATE  SOURCE   LATITUDE  \\\n",
              "DATE                                                                      \n",
              "2023-01-01 00:20:00  3334099999  2023-01-01T00:20:00       4  53.353744   \n",
              "2023-01-01 00:50:00  3334099999  2023-01-01T00:50:00       4  53.353744   \n",
              "2023-01-01 01:20:00  3334099999  2023-01-01T01:20:00       4  53.353744   \n",
              "2023-01-01 01:50:00  3334099999  2023-01-01T01:50:00       4  53.353744   \n",
              "2023-01-01 02:20:00  3334099999  2023-01-01T02:20:00       4  53.353744   \n",
              "\n",
              "                     LONGITUDE  ELEVATION            NAME REPORT_TYPE  \\\n",
              "DATE                                                                    \n",
              "2023-01-01 00:20:00   -2.27495      78.33  MANCHESTER, UK       FM-15   \n",
              "2023-01-01 00:50:00   -2.27495      78.33  MANCHESTER, UK       FM-15   \n",
              "2023-01-01 01:20:00   -2.27495      78.33  MANCHESTER, UK       FM-15   \n",
              "2023-01-01 01:50:00   -2.27495      78.33  MANCHESTER, UK       FM-15   \n",
              "2023-01-01 02:20:00   -2.27495      78.33  MANCHESTER, UK       FM-15   \n",
              "\n",
              "                     CALL_SIGN QUALITY_CONTROL  ...                 GA2  \\\n",
              "DATE                                            ...                       \n",
              "2023-01-01 00:20:00      99999            V020  ...                 NaN   \n",
              "2023-01-01 00:50:00      99999            V020  ...                 NaN   \n",
              "2023-01-01 01:20:00      99999            V020  ...  07,1,+01128,1,99,9   \n",
              "2023-01-01 01:50:00      99999            V020  ...  04,1,+01372,1,99,9   \n",
              "2023-01-01 02:20:00      99999            V020  ...  07,1,+01036,1,99,9   \n",
              "\n",
              "                                    GA3  GA4                     GE1  \\\n",
              "DATE                                                                   \n",
              "2023-01-01 00:20:00                 NaN  NaN  9,AGL   ,+99999,+99999   \n",
              "2023-01-01 00:50:00                 NaN  NaN                     NaN   \n",
              "2023-01-01 01:20:00                 NaN  NaN  9,AGL   ,+99999,+99999   \n",
              "2023-01-01 01:50:00                 NaN  NaN  9,AGL   ,+99999,+99999   \n",
              "2023-01-01 02:20:00  07,1,+01219,1,99,9  NaN  9,AGL   ,+99999,+99999   \n",
              "\n",
              "                                                     GF1              MA1  \\\n",
              "DATE                                                                        \n",
              "2023-01-01 00:20:00  99,99,9,04,1,99,9,01341,1,99,9,99,9  09960,1,99999,9   \n",
              "2023-01-01 00:50:00                                  NaN  09970,1,99999,9   \n",
              "2023-01-01 01:20:00  99,99,9,07,1,99,9,00914,1,99,9,99,9  09970,1,99999,9   \n",
              "2023-01-01 01:50:00  99,99,9,02,1,99,9,00823,1,99,9,99,9  09970,1,99999,9   \n",
              "2023-01-01 02:20:00  99,99,9,04,1,99,9,00884,1,99,9,99,9  09980,1,99999,9   \n",
              "\n",
              "                     MW1  MW2  OC1  \\\n",
              "DATE                                 \n",
              "2023-01-01 00:20:00  NaN  NaN  NaN   \n",
              "2023-01-01 00:50:00  NaN  NaN  NaN   \n",
              "2023-01-01 01:20:00  NaN  NaN  NaN   \n",
              "2023-01-01 01:50:00  NaN  NaN  NaN   \n",
              "2023-01-01 02:20:00  NaN  NaN  NaN   \n",
              "\n",
              "                                                                   REM  \n",
              "DATE                                                                    \n",
              "2023-01-01 00:20:00  MET081METAR EGCC 010020Z AUTO 19006KT 150V230 ...  \n",
              "2023-01-01 00:50:00  MET068METAR COR EGCC 010050Z AUTO 21012KT 9999...  \n",
              "2023-01-01 01:20:00  MET079METAR EGCC 010120Z AUTO 21012KT 9999 BKN...  \n",
              "2023-01-01 01:50:00  MET089METAR COR EGCC 010150Z AUTO 22009KT 9999...  \n",
              "2023-01-01 02:20:00  MET080METAR COR EGCC 010220Z AUTO 22007KT 9999...  \n",
              "\n",
              "[5 rows x 30 columns]"
            ],
            "text/html": [
              "\n",
              "  <div id=\"df-4ee7f7e7-e7a8-4908-90f8-f0d91cc07b38\" class=\"colab-df-container\">\n",
              "    <div>\n",
              "<style scoped>\n",
              "    .dataframe tbody tr th:only-of-type {\n",
              "        vertical-align: middle;\n",
              "    }\n",
              "\n",
              "    .dataframe tbody tr th {\n",
              "        vertical-align: top;\n",
              "    }\n",
              "\n",
              "    .dataframe thead th {\n",
              "        text-align: right;\n",
              "    }\n",
              "</style>\n",
              "<table border=\"1\" class=\"dataframe\">\n",
              "  <thead>\n",
              "    <tr style=\"text-align: right;\">\n",
              "      <th></th>\n",
              "      <th>STATION</th>\n",
              "      <th>DATE</th>\n",
              "      <th>SOURCE</th>\n",
              "      <th>LATITUDE</th>\n",
              "      <th>LONGITUDE</th>\n",
              "      <th>ELEVATION</th>\n",
              "      <th>NAME</th>\n",
              "      <th>REPORT_TYPE</th>\n",
              "      <th>CALL_SIGN</th>\n",
              "      <th>QUALITY_CONTROL</th>\n",
              "      <th>...</th>\n",
              "      <th>GA2</th>\n",
              "      <th>GA3</th>\n",
              "      <th>GA4</th>\n",
              "      <th>GE1</th>\n",
              "      <th>GF1</th>\n",
              "      <th>MA1</th>\n",
              "      <th>MW1</th>\n",
              "      <th>MW2</th>\n",
              "      <th>OC1</th>\n",
              "      <th>REM</th>\n",
              "    </tr>\n",
              "    <tr>\n",
              "      <th>DATE</th>\n",
              "      <th></th>\n",
              "      <th></th>\n",
              "      <th></th>\n",
              "      <th></th>\n",
              "      <th></th>\n",
              "      <th></th>\n",
              "      <th></th>\n",
              "      <th></th>\n",
              "      <th></th>\n",
              "      <th></th>\n",
              "      <th></th>\n",
              "      <th></th>\n",
              "      <th></th>\n",
              "      <th></th>\n",
              "      <th></th>\n",
              "      <th></th>\n",
              "      <th></th>\n",
              "      <th></th>\n",
              "      <th></th>\n",
              "      <th></th>\n",
              "      <th></th>\n",
              "    </tr>\n",
              "  </thead>\n",
              "  <tbody>\n",
              "    <tr>\n",
              "      <th>2023-01-01 00:20:00</th>\n",
              "      <td>3334099999</td>\n",
              "      <td>2023-01-01T00:20:00</td>\n",
              "      <td>4</td>\n",
              "      <td>53.353744</td>\n",
              "      <td>-2.27495</td>\n",
              "      <td>78.33</td>\n",
              "      <td>MANCHESTER, UK</td>\n",
              "      <td>FM-15</td>\n",
              "      <td>99999</td>\n",
              "      <td>V020</td>\n",
              "      <td>...</td>\n",
              "      <td>NaN</td>\n",
              "      <td>NaN</td>\n",
              "      <td>NaN</td>\n",
              "      <td>9,AGL   ,+99999,+99999</td>\n",
              "      <td>99,99,9,04,1,99,9,01341,1,99,9,99,9</td>\n",
              "      <td>09960,1,99999,9</td>\n",
              "      <td>NaN</td>\n",
              "      <td>NaN</td>\n",
              "      <td>NaN</td>\n",
              "      <td>MET081METAR EGCC 010020Z AUTO 19006KT 150V230 ...</td>\n",
              "    </tr>\n",
              "    <tr>\n",
              "      <th>2023-01-01 00:50:00</th>\n",
              "      <td>3334099999</td>\n",
              "      <td>2023-01-01T00:50:00</td>\n",
              "      <td>4</td>\n",
              "      <td>53.353744</td>\n",
              "      <td>-2.27495</td>\n",
              "      <td>78.33</td>\n",
              "      <td>MANCHESTER, UK</td>\n",
              "      <td>FM-15</td>\n",
              "      <td>99999</td>\n",
              "      <td>V020</td>\n",
              "      <td>...</td>\n",
              "      <td>NaN</td>\n",
              "      <td>NaN</td>\n",
              "      <td>NaN</td>\n",
              "      <td>NaN</td>\n",
              "      <td>NaN</td>\n",
              "      <td>09970,1,99999,9</td>\n",
              "      <td>NaN</td>\n",
              "      <td>NaN</td>\n",
              "      <td>NaN</td>\n",
              "      <td>MET068METAR COR EGCC 010050Z AUTO 21012KT 9999...</td>\n",
              "    </tr>\n",
              "    <tr>\n",
              "      <th>2023-01-01 01:20:00</th>\n",
              "      <td>3334099999</td>\n",
              "      <td>2023-01-01T01:20:00</td>\n",
              "      <td>4</td>\n",
              "      <td>53.353744</td>\n",
              "      <td>-2.27495</td>\n",
              "      <td>78.33</td>\n",
              "      <td>MANCHESTER, UK</td>\n",
              "      <td>FM-15</td>\n",
              "      <td>99999</td>\n",
              "      <td>V020</td>\n",
              "      <td>...</td>\n",
              "      <td>07,1,+01128,1,99,9</td>\n",
              "      <td>NaN</td>\n",
              "      <td>NaN</td>\n",
              "      <td>9,AGL   ,+99999,+99999</td>\n",
              "      <td>99,99,9,07,1,99,9,00914,1,99,9,99,9</td>\n",
              "      <td>09970,1,99999,9</td>\n",
              "      <td>NaN</td>\n",
              "      <td>NaN</td>\n",
              "      <td>NaN</td>\n",
              "      <td>MET079METAR EGCC 010120Z AUTO 21012KT 9999 BKN...</td>\n",
              "    </tr>\n",
              "    <tr>\n",
              "      <th>2023-01-01 01:50:00</th>\n",
              "      <td>3334099999</td>\n",
              "      <td>2023-01-01T01:50:00</td>\n",
              "      <td>4</td>\n",
              "      <td>53.353744</td>\n",
              "      <td>-2.27495</td>\n",
              "      <td>78.33</td>\n",
              "      <td>MANCHESTER, UK</td>\n",
              "      <td>FM-15</td>\n",
              "      <td>99999</td>\n",
              "      <td>V020</td>\n",
              "      <td>...</td>\n",
              "      <td>04,1,+01372,1,99,9</td>\n",
              "      <td>NaN</td>\n",
              "      <td>NaN</td>\n",
              "      <td>9,AGL   ,+99999,+99999</td>\n",
              "      <td>99,99,9,02,1,99,9,00823,1,99,9,99,9</td>\n",
              "      <td>09970,1,99999,9</td>\n",
              "      <td>NaN</td>\n",
              "      <td>NaN</td>\n",
              "      <td>NaN</td>\n",
              "      <td>MET089METAR COR EGCC 010150Z AUTO 22009KT 9999...</td>\n",
              "    </tr>\n",
              "    <tr>\n",
              "      <th>2023-01-01 02:20:00</th>\n",
              "      <td>3334099999</td>\n",
              "      <td>2023-01-01T02:20:00</td>\n",
              "      <td>4</td>\n",
              "      <td>53.353744</td>\n",
              "      <td>-2.27495</td>\n",
              "      <td>78.33</td>\n",
              "      <td>MANCHESTER, UK</td>\n",
              "      <td>FM-15</td>\n",
              "      <td>99999</td>\n",
              "      <td>V020</td>\n",
              "      <td>...</td>\n",
              "      <td>07,1,+01036,1,99,9</td>\n",
              "      <td>07,1,+01219,1,99,9</td>\n",
              "      <td>NaN</td>\n",
              "      <td>9,AGL   ,+99999,+99999</td>\n",
              "      <td>99,99,9,04,1,99,9,00884,1,99,9,99,9</td>\n",
              "      <td>09980,1,99999,9</td>\n",
              "      <td>NaN</td>\n",
              "      <td>NaN</td>\n",
              "      <td>NaN</td>\n",
              "      <td>MET080METAR COR EGCC 010220Z AUTO 22007KT 9999...</td>\n",
              "    </tr>\n",
              "  </tbody>\n",
              "</table>\n",
              "<p>5 rows × 30 columns</p>\n",
              "</div>\n",
              "    <div class=\"colab-df-buttons\">\n",
              "\n",
              "  <div class=\"colab-df-container\">\n",
              "    <button class=\"colab-df-convert\" onclick=\"convertToInteractive('df-4ee7f7e7-e7a8-4908-90f8-f0d91cc07b38')\"\n",
              "            title=\"Convert this dataframe to an interactive table.\"\n",
              "            style=\"display:none;\">\n",
              "\n",
              "  <svg xmlns=\"http://www.w3.org/2000/svg\" height=\"24px\" viewBox=\"0 -960 960 960\">\n",
              "    <path d=\"M120-120v-720h720v720H120Zm60-500h600v-160H180v160Zm220 220h160v-160H400v160Zm0 220h160v-160H400v160ZM180-400h160v-160H180v160Zm440 0h160v-160H620v160ZM180-180h160v-160H180v160Zm440 0h160v-160H620v160Z\"/>\n",
              "  </svg>\n",
              "    </button>\n",
              "\n",
              "  <style>\n",
              "    .colab-df-container {\n",
              "      display:flex;\n",
              "      gap: 12px;\n",
              "    }\n",
              "\n",
              "    .colab-df-convert {\n",
              "      background-color: #E8F0FE;\n",
              "      border: none;\n",
              "      border-radius: 50%;\n",
              "      cursor: pointer;\n",
              "      display: none;\n",
              "      fill: #1967D2;\n",
              "      height: 32px;\n",
              "      padding: 0 0 0 0;\n",
              "      width: 32px;\n",
              "    }\n",
              "\n",
              "    .colab-df-convert:hover {\n",
              "      background-color: #E2EBFA;\n",
              "      box-shadow: 0px 1px 2px rgba(60, 64, 67, 0.3), 0px 1px 3px 1px rgba(60, 64, 67, 0.15);\n",
              "      fill: #174EA6;\n",
              "    }\n",
              "\n",
              "    .colab-df-buttons div {\n",
              "      margin-bottom: 4px;\n",
              "    }\n",
              "\n",
              "    [theme=dark] .colab-df-convert {\n",
              "      background-color: #3B4455;\n",
              "      fill: #D2E3FC;\n",
              "    }\n",
              "\n",
              "    [theme=dark] .colab-df-convert:hover {\n",
              "      background-color: #434B5C;\n",
              "      box-shadow: 0px 1px 3px 1px rgba(0, 0, 0, 0.15);\n",
              "      filter: drop-shadow(0px 1px 2px rgba(0, 0, 0, 0.3));\n",
              "      fill: #FFFFFF;\n",
              "    }\n",
              "  </style>\n",
              "\n",
              "    <script>\n",
              "      const buttonEl =\n",
              "        document.querySelector('#df-4ee7f7e7-e7a8-4908-90f8-f0d91cc07b38 button.colab-df-convert');\n",
              "      buttonEl.style.display =\n",
              "        google.colab.kernel.accessAllowed ? 'block' : 'none';\n",
              "\n",
              "      async function convertToInteractive(key) {\n",
              "        const element = document.querySelector('#df-4ee7f7e7-e7a8-4908-90f8-f0d91cc07b38');\n",
              "        const dataTable =\n",
              "          await google.colab.kernel.invokeFunction('convertToInteractive',\n",
              "                                                    [key], {});\n",
              "        if (!dataTable) return;\n",
              "\n",
              "        const docLinkHtml = 'Like what you see? Visit the ' +\n",
              "          '<a target=\"_blank\" href=https://colab.research.google.com/notebooks/data_table.ipynb>data table notebook</a>'\n",
              "          + ' to learn more about interactive tables.';\n",
              "        element.innerHTML = '';\n",
              "        dataTable['output_type'] = 'display_data';\n",
              "        await google.colab.output.renderOutput(dataTable, element);\n",
              "        const docLink = document.createElement('div');\n",
              "        docLink.innerHTML = docLinkHtml;\n",
              "        element.appendChild(docLink);\n",
              "      }\n",
              "    </script>\n",
              "  </div>\n",
              "\n",
              "\n",
              "<div id=\"df-0f441cf4-4595-415a-936c-4a5efdda2713\">\n",
              "  <button class=\"colab-df-quickchart\" onclick=\"quickchart('df-0f441cf4-4595-415a-936c-4a5efdda2713')\"\n",
              "            title=\"Suggest charts\"\n",
              "            style=\"display:none;\">\n",
              "\n",
              "<svg xmlns=\"http://www.w3.org/2000/svg\" height=\"24px\"viewBox=\"0 0 24 24\"\n",
              "     width=\"24px\">\n",
              "    <g>\n",
              "        <path d=\"M19 3H5c-1.1 0-2 .9-2 2v14c0 1.1.9 2 2 2h14c1.1 0 2-.9 2-2V5c0-1.1-.9-2-2-2zM9 17H7v-7h2v7zm4 0h-2V7h2v10zm4 0h-2v-4h2v4z\"/>\n",
              "    </g>\n",
              "</svg>\n",
              "  </button>\n",
              "\n",
              "<style>\n",
              "  .colab-df-quickchart {\n",
              "      --bg-color: #E8F0FE;\n",
              "      --fill-color: #1967D2;\n",
              "      --hover-bg-color: #E2EBFA;\n",
              "      --hover-fill-color: #174EA6;\n",
              "      --disabled-fill-color: #AAA;\n",
              "      --disabled-bg-color: #DDD;\n",
              "  }\n",
              "\n",
              "  [theme=dark] .colab-df-quickchart {\n",
              "      --bg-color: #3B4455;\n",
              "      --fill-color: #D2E3FC;\n",
              "      --hover-bg-color: #434B5C;\n",
              "      --hover-fill-color: #FFFFFF;\n",
              "      --disabled-bg-color: #3B4455;\n",
              "      --disabled-fill-color: #666;\n",
              "  }\n",
              "\n",
              "  .colab-df-quickchart {\n",
              "    background-color: var(--bg-color);\n",
              "    border: none;\n",
              "    border-radius: 50%;\n",
              "    cursor: pointer;\n",
              "    display: none;\n",
              "    fill: var(--fill-color);\n",
              "    height: 32px;\n",
              "    padding: 0;\n",
              "    width: 32px;\n",
              "  }\n",
              "\n",
              "  .colab-df-quickchart:hover {\n",
              "    background-color: var(--hover-bg-color);\n",
              "    box-shadow: 0 1px 2px rgba(60, 64, 67, 0.3), 0 1px 3px 1px rgba(60, 64, 67, 0.15);\n",
              "    fill: var(--button-hover-fill-color);\n",
              "  }\n",
              "\n",
              "  .colab-df-quickchart-complete:disabled,\n",
              "  .colab-df-quickchart-complete:disabled:hover {\n",
              "    background-color: var(--disabled-bg-color);\n",
              "    fill: var(--disabled-fill-color);\n",
              "    box-shadow: none;\n",
              "  }\n",
              "\n",
              "  .colab-df-spinner {\n",
              "    border: 2px solid var(--fill-color);\n",
              "    border-color: transparent;\n",
              "    border-bottom-color: var(--fill-color);\n",
              "    animation:\n",
              "      spin 1s steps(1) infinite;\n",
              "  }\n",
              "\n",
              "  @keyframes spin {\n",
              "    0% {\n",
              "      border-color: transparent;\n",
              "      border-bottom-color: var(--fill-color);\n",
              "      border-left-color: var(--fill-color);\n",
              "    }\n",
              "    20% {\n",
              "      border-color: transparent;\n",
              "      border-left-color: var(--fill-color);\n",
              "      border-top-color: var(--fill-color);\n",
              "    }\n",
              "    30% {\n",
              "      border-color: transparent;\n",
              "      border-left-color: var(--fill-color);\n",
              "      border-top-color: var(--fill-color);\n",
              "      border-right-color: var(--fill-color);\n",
              "    }\n",
              "    40% {\n",
              "      border-color: transparent;\n",
              "      border-right-color: var(--fill-color);\n",
              "      border-top-color: var(--fill-color);\n",
              "    }\n",
              "    60% {\n",
              "      border-color: transparent;\n",
              "      border-right-color: var(--fill-color);\n",
              "    }\n",
              "    80% {\n",
              "      border-color: transparent;\n",
              "      border-right-color: var(--fill-color);\n",
              "      border-bottom-color: var(--fill-color);\n",
              "    }\n",
              "    90% {\n",
              "      border-color: transparent;\n",
              "      border-bottom-color: var(--fill-color);\n",
              "    }\n",
              "  }\n",
              "</style>\n",
              "\n",
              "  <script>\n",
              "    async function quickchart(key) {\n",
              "      const quickchartButtonEl =\n",
              "        document.querySelector('#' + key + ' button');\n",
              "      quickchartButtonEl.disabled = true;  // To prevent multiple clicks.\n",
              "      quickchartButtonEl.classList.add('colab-df-spinner');\n",
              "      try {\n",
              "        const charts = await google.colab.kernel.invokeFunction(\n",
              "            'suggestCharts', [key], {});\n",
              "      } catch (error) {\n",
              "        console.error('Error during call to suggestCharts:', error);\n",
              "      }\n",
              "      quickchartButtonEl.classList.remove('colab-df-spinner');\n",
              "      quickchartButtonEl.classList.add('colab-df-quickchart-complete');\n",
              "    }\n",
              "    (() => {\n",
              "      let quickchartButtonEl =\n",
              "        document.querySelector('#df-0f441cf4-4595-415a-936c-4a5efdda2713 button');\n",
              "      quickchartButtonEl.style.display =\n",
              "        google.colab.kernel.accessAllowed ? 'block' : 'none';\n",
              "    })();\n",
              "  </script>\n",
              "</div>\n",
              "\n",
              "    </div>\n",
              "  </div>\n"
            ],
            "application/vnd.google.colaboratory.intrinsic+json": {
              "type": "dataframe",
              "variable_name": "df"
            }
          },
          "metadata": {},
          "execution_count": 5
        }
      ],
      "source": [
        "df.head()"
      ]
    },
    {
      "cell_type": "markdown",
      "metadata": {
        "id": "dxl4dd_ZrJag"
      },
      "source": [
        "Q: What format is time data saved in?\n",
        "\n",
        "A: The time data is saved in the format of datetime64[ns].\n",
        "\n",
        "Q: How can I access the time data?\n",
        "\n",
        "A: You can access the time data by using the index of the dataframe.\n",
        "\n",
        "Q: Are there any types of time data that can be used?\n",
        "\n",
        "A: timestamp, datetime (Python object), and datetime64[ns] (numpy object). Please refer to the following link for more information: https://pandas.pydata.org/pandas-docs/stable/user_guide/timeseries.html"
      ]
    },
    {
      "cell_type": "markdown",
      "metadata": {
        "id": "RO6jxU0tN4Cn"
      },
      "source": [
        "### 1.2 check the temperature of the raw data\n",
        "\n",
        "TMP - Mean temperature (.1 Fahrenheit)\n",
        "\n",
        "here we will not change the unit of temperature (Fahrenheit).\n",
        "\n",
        "Q: How to present temperature? Which type of temperature is the standard?\n",
        "\n",
        "A: Celsius (°C), Fahrenheit (°F), Kelvin (K). Kelvin is the standard unit in the International System of Units. Kelvin is an absolute temperature scale where 0 K is absolute zero, equivalent to -273.15°C. Celsius is commonly used in daily life, where Water freezes at 0°C and boils at 100°C (under standard atmospheric pressure). Fahrenheit is popular in the United States\n",
        "\n",
        "Fahrenheit = Celsius * 5/9 + 32\n",
        "\n",
        "Kelvin = Celsius + 273.15"
      ]
    },
    {
      "cell_type": "code",
      "execution_count": 6,
      "metadata": {
        "colab": {
          "base_uri": "https://localhost:8080/",
          "height": 450
        },
        "collapsed": true,
        "id": "ij_bItRsMTFN",
        "outputId": "73416db9-eb1e-49ac-cdff-fd268cb94013"
      },
      "outputs": [
        {
          "output_type": "execute_result",
          "data": {
            "text/plain": [
              "<Axes: xlabel='DATE'>"
            ]
          },
          "metadata": {},
          "execution_count": 6
        },
        {
          "output_type": "display_data",
          "data": {
            "text/plain": [
              "<Figure size 640x480 with 1 Axes>"
            ],
            "image/png": "[encoded data removed]"
          },
          "metadata": {}
        }
      ],
      "source": [
        "df['TMP'].plot() # check the data"
      ]
    },
    {
      "cell_type": "markdown",
      "metadata": {
        "id": "_HxhIHXEhs0E"
      },
      "source": [
        "we can see here are some **missing data** that are replaced by 9999.99"
      ]
    },
    {
      "cell_type": "markdown",
      "metadata": {
        "id": "LDly0mhwMTFN"
      },
      "source": [
        "### 1.3 How to deal with the missing data?\n",
        "\n",
        "1. interpolate\n",
        "    - ref: https://pandas.pydata.org/pandas-docs/stable/reference/api/pandas.DataFrame.interpolate.html\n",
        "2. drop it\n",
        "3. fill it with a constant value\n",
        "    - mean\n",
        "    - median\n",
        "    - last observation\n",
        "    - next observation\n",
        "4. others (e.g. using a model to predict the missing value)"
      ]
    },
    {
      "cell_type": "code",
      "execution_count": 7,
      "metadata": {
        "colab": {
          "base_uri": "https://localhost:8080/"
        },
        "id": "ZzbnAnUFU7xQ",
        "outputId": "d8e3fddc-6761-4e2f-ed69-2bca31fdbb09"
      },
      "outputs": [
        {
          "output_type": "execute_result",
          "data": {
            "text/plain": [
              "DatetimeIndex(['2023-07-15 14:50:00', '2023-07-24 01:50:00'], dtype='datetime64[ns]', name='DATE', freq=None)"
            ]
          },
          "metadata": {},
          "execution_count": 7
        }
      ],
      "source": [
        "# 1 find the missing value index\n",
        "missing_value_index = df.query('TMP >= 9999').index\n",
        "missing_value_index"
      ]
    },
    {
      "cell_type": "code",
      "execution_count": 8,
      "metadata": {
        "colab": {
          "base_uri": "https://localhost:8080/",
          "height": 178
        },
        "id": "cW5Vo5MEU_mL",
        "outputId": "2e2a0dbf-55c8-47ac-c311-ba00d4b461f9"
      },
      "outputs": [
        {
          "output_type": "execute_result",
          "data": {
            "text/plain": [
              "DATE\n",
              "2023-07-15 14:50:00    9999.9\n",
              "2023-07-24 01:50:00    9999.9\n",
              "Name: TMP, dtype: float64"
            ],
            "text/html": [
              "<div>\n",
              "<style scoped>\n",
              "    .dataframe tbody tr th:only-of-type {\n",
              "        vertical-align: middle;\n",
              "    }\n",
              "\n",
              "    .dataframe tbody tr th {\n",
              "        vertical-align: top;\n",
              "    }\n",
              "\n",
              "    .dataframe thead th {\n",
              "        text-align: right;\n",
              "    }\n",
              "</style>\n",
              "<table border=\"1\" class=\"dataframe\">\n",
              "  <thead>\n",
              "    <tr style=\"text-align: right;\">\n",
              "      <th></th>\n",
              "      <th>TMP</th>\n",
              "    </tr>\n",
              "    <tr>\n",
              "      <th>DATE</th>\n",
              "      <th></th>\n",
              "    </tr>\n",
              "  </thead>\n",
              "  <tbody>\n",
              "    <tr>\n",
              "      <th>2023-07-15 14:50:00</th>\n",
              "      <td>9999.9</td>\n",
              "    </tr>\n",
              "    <tr>\n",
              "      <th>2023-07-24 01:50:00</th>\n",
              "      <td>9999.9</td>\n",
              "    </tr>\n",
              "  </tbody>\n",
              "</table>\n",
              "</div><br><label><b>dtype:</b> float64</label>"
            ]
          },
          "metadata": {},
          "execution_count": 8
        }
      ],
      "source": [
        "# 2 check the missing values\n",
        "df.loc[missing_value_index]['TMP']"
      ]
    },
    {
      "cell_type": "code",
      "execution_count": 9,
      "metadata": {
        "id": "UyEkR9-qMTFN"
      },
      "outputs": [],
      "source": [
        "# 3 fill the missing values using interpolation of linear method\n",
        "df['T_filled'] = df['TMP'].apply(lambda x: x if x < 9999 else np.nan).interpolate(method='linear')"
      ]
    },
    {
      "cell_type": "code",
      "execution_count": 10,
      "metadata": {
        "colab": {
          "base_uri": "https://localhost:8080/"
        },
        "id": "lb823KxZZSg6",
        "outputId": "a7f2bc53-b060-4338-a87d-97fc1a62b737"
      },
      "outputs": [
        {
          "output_type": "stream",
          "name": "stdout",
          "text": [
            "DATE\n",
            "2023-07-15 14:50:00    175.1\n",
            "2023-07-24 01:50:00    110.1\n",
            "Name: T_filled, dtype: float64\n"
          ]
        }
      ],
      "source": [
        "# 4 print the values\n",
        "print(df['T_filled'].loc[missing_value_index])"
      ]
    },
    {
      "cell_type": "code",
      "execution_count": 11,
      "metadata": {
        "colab": {
          "base_uri": "https://localhost:8080/",
          "height": 450
        },
        "id": "Acq4ZSSGMTFN",
        "outputId": "43c25b13-d6d4-4869-fe5e-aa225bd03134"
      },
      "outputs": [
        {
          "output_type": "execute_result",
          "data": {
            "text/plain": [
              "<Axes: xlabel='DATE'>"
            ]
          },
          "metadata": {},
          "execution_count": 11
        },
        {
          "output_type": "display_data",
          "data": {
            "text/plain": [
              "<Figure size 640x480 with 1 Axes>"
            ],
            "image/png": "[encoded data removed]"
          },
          "metadata": {}
        }
      ],
      "source": [
        "# 5 plotting\n",
        "df['T_filled'].plot()"
      ]
    },
    {
      "cell_type": "markdown",
      "metadata": {
        "id": "C8_i5PIYRvgX"
      },
      "source": [
        "### 1.4 Try other station and fill the missing values with different methods and compare the different among them.\n",
        "\n",
        "\n",
        "1. select station: https://envdes.github.io/obswx/isd_map\n",
        "\n",
        "2. get 2023 **LEEK THORNCLIFFE** station data\n",
        "\n",
        "```\n",
        "    USAF: \"033300\"\n",
        "    WBAN: \"99999\"\n",
        "    Station Name: \"LEEK THORNCLIFFE\"\n",
        "    Country: \"UK\"\n",
        "    State: \"\"\n",
        "    ICAO: \"\"\n",
        "    Latitude: 53.133\n",
        "    Longitude: -1.983\n",
        "    Elevation: 299\n",
        "    Begin: \"20040706\"\n",
        "    End: \"20240811\"\n",
        "```\n",
        "\n",
        "3. fill the missing value using different methods (linear, nearest, polynomial (order2), last observation, and the next observation), and compare the filled value with mean, median."
      ]
    },
    {
      "cell_type": "code",
      "execution_count": null,
      "metadata": {
        "id": "fP2FxvATScuZ"
      },
      "outputs": [],
      "source": [
        "# try you code in here and the plot is like below"
      ]
    },
    {
      "cell_type": "markdown",
      "metadata": {
        "id": "NrASSi-SUU4j"
      },
      "source": [
        "use the index to locate the data, and fill the missing value using with different methods"
      ]
    },
    {
      "cell_type": "code",
      "execution_count": null,
      "metadata": {
        "id": "ukUslYUVWXMo"
      },
      "outputs": [],
      "source": [
        "#example code here:"
      ]
    },
    {
      "cell_type": "markdown",
      "metadata": {
        "id": "eAPY1PF2Qky6"
      },
      "source": [
        "## 2 train a time serial model using automl\n",
        "---"
      ]
    },
    {
      "cell_type": "markdown",
      "metadata": {
        "id": "LeXqpzCzaY6T"
      },
      "source": [
        "### 2.1 download 12 years data"
      ]
    },
    {
      "cell_type": "code",
      "execution_count": 18,
      "metadata": {
        "colab": {
          "base_uri": "https://localhost:8080/"
        },
        "collapsed": true,
        "id": "Stc0ShgAN2zA",
        "outputId": "008d66e0-bc83-4435-dbaf-3a3d9c34c2d0"
      },
      "outputs": [
        {
          "output_type": "stream",
          "name": "stdout",
          "text": [
            "Getting data from NOAA ISD\n",
            "Here to help select station:  https://envdes.github.io/obswx/isd_map\n",
            "Getting data from NOAA ISD\n",
            "Here to help select station:  https://envdes.github.io/obswx/isd_map\n",
            "Getting data from NOAA ISD\n",
            "Here to help select station:  https://envdes.github.io/obswx/isd_map\n",
            "Getting data from NOAA ISD\n",
            "Here to help select station:  https://envdes.github.io/obswx/isd_map\n",
            "Getting data from NOAA ISD\n",
            "Here to help select station:  https://envdes.github.io/obswx/isd_map\n",
            "Getting data from NOAA ISD\n",
            "Here to help select station:  https://envdes.github.io/obswx/isd_map\n",
            "Getting data from NOAA ISD\n",
            "Here to help select station:  https://envdes.github.io/obswx/isd_map\n",
            "Getting data from NOAA ISD\n",
            "Here to help select station:  https://envdes.github.io/obswx/isd_map\n",
            "Getting data from NOAA ISD\n",
            "Here to help select station:  https://envdes.github.io/obswx/isd_map\n",
            "Getting data from NOAA ISD\n",
            "Here to help select station:  https://envdes.github.io/obswx/isd_map\n",
            "Getting data from NOAA ISD\n",
            "Here to help select station:  https://envdes.github.io/obswx/isd_map\n",
            "Getting data from NOAA ISD\n",
            "Here to help select station:  https://envdes.github.io/obswx/isd_map\n",
            "Getting data from NOAA ISD\n",
            "Here to help select station:  https://envdes.github.io/obswx/isd_map\n"
          ]
        }
      ],
      "source": [
        "df = pd.DataFrame()\n",
        "for year in range(2010,2023): # 2012--2022 year\n",
        "    df_ = met.get_data(year=year, station= \"03334099999\", isd_source=\"AWS\")\n",
        "    df = pd.concat([df, df_])\n",
        "\n",
        "df['TMP'] = df['TMP'].replace(',','.', regex=True).astype(float) # transform the temperature to float\n",
        "df.index = pd.to_datetime(df['DATE'])\n",
        "df['T_filled'] = df['TMP'].apply(lambda x: x if x < 9999 else np.nan).interpolate(method='linear') # fill the missing values"
      ]
    },
    {
      "cell_type": "code",
      "execution_count": 19,
      "metadata": {
        "colab": {
          "base_uri": "https://localhost:8080/",
          "height": 441
        },
        "collapsed": true,
        "id": "Z2juQqoqOMSv",
        "outputId": "e6bb3760-9e23-484c-9c81-84fabce8981c"
      },
      "outputs": [
        {
          "output_type": "execute_result",
          "data": {
            "text/plain": [
              "<Axes: xlabel='DATE'>"
            ]
          },
          "metadata": {},
          "execution_count": 19
        },
        {
          "output_type": "display_data",
          "data": {
            "text/plain": [
              "<Figure size 640x480 with 1 Axes>"
            ],
            "image/png": "[encoded data removed]"
          },
          "metadata": {}
        }
      ],
      "source": [
        "df['T_filled'].plot()"
      ]
    },
    {
      "cell_type": "markdown",
      "metadata": {
        "id": "zZPv2x9laov_"
      },
      "source": [
        "### 2.3 resample the data to monthly data"
      ]
    },
    {
      "cell_type": "code",
      "execution_count": 20,
      "metadata": {
        "colab": {
          "base_uri": "https://localhost:8080/",
          "height": 424
        },
        "collapsed": true,
        "id": "aZaBaoF-MTFO",
        "outputId": "b641c79a-ec69-4dd9-c0c8-b5bfa09e749e"
      },
      "outputs": [
        {
          "output_type": "execute_result",
          "data": {
            "text/plain": [
              "          DATE    T_filled\n",
              "0   2010-01-31   10.447978\n",
              "1   2010-02-28   23.330159\n",
              "2   2010-03-31   60.106117\n",
              "3   2010-04-30   87.856189\n",
              "4   2010-05-31  108.584489\n",
              "..         ...         ...\n",
              "151 2022-08-31  180.983548\n",
              "152 2022-09-30  140.238889\n",
              "153 2022-10-31  124.890089\n",
              "154 2022-11-30   89.082578\n",
              "155 2022-12-31   35.457163\n",
              "\n",
              "[156 rows x 2 columns]"
            ],
            "text/html": [
              "\n",
              "  <div id=\"df-671d35e2-8247-4cb0-90f7-0a1dcfb2538d\" class=\"colab-df-container\">\n",
              "    <div>\n",
              "<style scoped>\n",
              "    .dataframe tbody tr th:only-of-type {\n",
              "        vertical-align: middle;\n",
              "    }\n",
              "\n",
              "    .dataframe tbody tr th {\n",
              "        vertical-align: top;\n",
              "    }\n",
              "\n",
              "    .dataframe thead th {\n",
              "        text-align: right;\n",
              "    }\n",
              "</style>\n",
              "<table border=\"1\" class=\"dataframe\">\n",
              "  <thead>\n",
              "    <tr style=\"text-align: right;\">\n",
              "      <th></th>\n",
              "      <th>DATE</th>\n",
              "      <th>T_filled</th>\n",
              "    </tr>\n",
              "  </thead>\n",
              "  <tbody>\n",
              "    <tr>\n",
              "      <th>0</th>\n",
              "      <td>2010-01-31</td>\n",
              "      <td>10.447978</td>\n",
              "    </tr>\n",
              "    <tr>\n",
              "      <th>1</th>\n",
              "      <td>2010-02-28</td>\n",
              "      <td>23.330159</td>\n",
              "    </tr>\n",
              "    <tr>\n",
              "      <th>2</th>\n",
              "      <td>2010-03-31</td>\n",
              "      <td>60.106117</td>\n",
              "    </tr>\n",
              "    <tr>\n",
              "      <th>3</th>\n",
              "      <td>2010-04-30</td>\n",
              "      <td>87.856189</td>\n",
              "    </tr>\n",
              "    <tr>\n",
              "      <th>4</th>\n",
              "      <td>2010-05-31</td>\n",
              "      <td>108.584489</td>\n",
              "    </tr>\n",
              "    <tr>\n",
              "      <th>...</th>\n",
              "      <td>...</td>\n",
              "      <td>...</td>\n",
              "    </tr>\n",
              "    <tr>\n",
              "      <th>151</th>\n",
              "      <td>2022-08-31</td>\n",
              "      <td>180.983548</td>\n",
              "    </tr>\n",
              "    <tr>\n",
              "      <th>152</th>\n",
              "      <td>2022-09-30</td>\n",
              "      <td>140.238889</td>\n",
              "    </tr>\n",
              "    <tr>\n",
              "      <th>153</th>\n",
              "      <td>2022-10-31</td>\n",
              "      <td>124.890089</td>\n",
              "    </tr>\n",
              "    <tr>\n",
              "      <th>154</th>\n",
              "      <td>2022-11-30</td>\n",
              "      <td>89.082578</td>\n",
              "    </tr>\n",
              "    <tr>\n",
              "      <th>155</th>\n",
              "      <td>2022-12-31</td>\n",
              "      <td>35.457163</td>\n",
              "    </tr>\n",
              "  </tbody>\n",
              "</table>\n",
              "<p>156 rows × 2 columns</p>\n",
              "</div>\n",
              "    <div class=\"colab-df-buttons\">\n",
              "\n",
              "  <div class=\"colab-df-container\">\n",
              "    <button class=\"colab-df-convert\" onclick=\"convertToInteractive('df-671d35e2-8247-4cb0-90f7-0a1dcfb2538d')\"\n",
              "            title=\"Convert this dataframe to an interactive table.\"\n",
              "            style=\"display:none;\">\n",
              "\n",
              "  <svg xmlns=\"http://www.w3.org/2000/svg\" height=\"24px\" viewBox=\"0 -960 960 960\">\n",
              "    <path d=\"M120-120v-720h720v720H120Zm60-500h600v-160H180v160Zm220 220h160v-160H400v160Zm0 220h160v-160H400v160ZM180-400h160v-160H180v160Zm440 0h160v-160H620v160ZM180-180h160v-160H180v160Zm440 0h160v-160H620v160Z\"/>\n",
              "  </svg>\n",
              "    </button>\n",
              "\n",
              "  <style>\n",
              "    .colab-df-container {\n",
              "      display:flex;\n",
              "      gap: 12px;\n",
              "    }\n",
              "\n",
              "    .colab-df-convert {\n",
              "      background-color: #E8F0FE;\n",
              "      border: none;\n",
              "      border-radius: 50%;\n",
              "      cursor: pointer;\n",
              "      display: none;\n",
              "      fill: #1967D2;\n",
              "      height: 32px;\n",
              "      padding: 0 0 0 0;\n",
              "      width: 32px;\n",
              "    }\n",
              "\n",
              "    .colab-df-convert:hover {\n",
              "      background-color: #E2EBFA;\n",
              "      box-shadow: 0px 1px 2px rgba(60, 64, 67, 0.3), 0px 1px 3px 1px rgba(60, 64, 67, 0.15);\n",
              "      fill: #174EA6;\n",
              "    }\n",
              "\n",
              "    .colab-df-buttons div {\n",
              "      margin-bottom: 4px;\n",
              "    }\n",
              "\n",
              "    [theme=dark] .colab-df-convert {\n",
              "      background-color: #3B4455;\n",
              "      fill: #D2E3FC;\n",
              "    }\n",
              "\n",
              "    [theme=dark] .colab-df-convert:hover {\n",
              "      background-color: #434B5C;\n",
              "      box-shadow: 0px 1px 3px 1px rgba(0, 0, 0, 0.15);\n",
              "      filter: drop-shadow(0px 1px 2px rgba(0, 0, 0, 0.3));\n",
              "      fill: #FFFFFF;\n",
              "    }\n",
              "  </style>\n",
              "\n",
              "    <script>\n",
              "      const buttonEl =\n",
              "        document.querySelector('#df-671d35e2-8247-4cb0-90f7-0a1dcfb2538d button.colab-df-convert');\n",
              "      buttonEl.style.display =\n",
              "        google.colab.kernel.accessAllowed ? 'block' : 'none';\n",
              "\n",
              "      async function convertToInteractive(key) {\n",
              "        const element = document.querySelector('#df-671d35e2-8247-4cb0-90f7-0a1dcfb2538d');\n",
              "        const dataTable =\n",
              "          await google.colab.kernel.invokeFunction('convertToInteractive',\n",
              "                                                    [key], {});\n",
              "        if (!dataTable) return;\n",
              "\n",
              "        const docLinkHtml = 'Like what you see? Visit the ' +\n",
              "          '<a target=\"_blank\" href=https://colab.research.google.com/notebooks/data_table.ipynb>data table notebook</a>'\n",
              "          + ' to learn more about interactive tables.';\n",
              "        element.innerHTML = '';\n",
              "        dataTable['output_type'] = 'display_data';\n",
              "        await google.colab.output.renderOutput(dataTable, element);\n",
              "        const docLink = document.createElement('div');\n",
              "        docLink.innerHTML = docLinkHtml;\n",
              "        element.appendChild(docLink);\n",
              "      }\n",
              "    </script>\n",
              "  </div>\n",
              "\n",
              "\n",
              "<div id=\"df-19f7128a-a067-4626-bfcc-853cd1cb3a0f\">\n",
              "  <button class=\"colab-df-quickchart\" onclick=\"quickchart('df-19f7128a-a067-4626-bfcc-853cd1cb3a0f')\"\n",
              "            title=\"Suggest charts\"\n",
              "            style=\"display:none;\">\n",
              "\n",
              "<svg xmlns=\"http://www.w3.org/2000/svg\" height=\"24px\"viewBox=\"0 0 24 24\"\n",
              "     width=\"24px\">\n",
              "    <g>\n",
              "        <path d=\"M19 3H5c-1.1 0-2 .9-2 2v14c0 1.1.9 2 2 2h14c1.1 0 2-.9 2-2V5c0-1.1-.9-2-2-2zM9 17H7v-7h2v7zm4 0h-2V7h2v10zm4 0h-2v-4h2v4z\"/>\n",
              "    </g>\n",
              "</svg>\n",
              "  </button>\n",
              "\n",
              "<style>\n",
              "  .colab-df-quickchart {\n",
              "      --bg-color: #E8F0FE;\n",
              "      --fill-color: #1967D2;\n",
              "      --hover-bg-color: #E2EBFA;\n",
              "      --hover-fill-color: #174EA6;\n",
              "      --disabled-fill-color: #AAA;\n",
              "      --disabled-bg-color: #DDD;\n",
              "  }\n",
              "\n",
              "  [theme=dark] .colab-df-quickchart {\n",
              "      --bg-color: #3B4455;\n",
              "      --fill-color: #D2E3FC;\n",
              "      --hover-bg-color: #434B5C;\n",
              "      --hover-fill-color: #FFFFFF;\n",
              "      --disabled-bg-color: #3B4455;\n",
              "      --disabled-fill-color: #666;\n",
              "  }\n",
              "\n",
              "  .colab-df-quickchart {\n",
              "    background-color: var(--bg-color);\n",
              "    border: none;\n",
              "    border-radius: 50%;\n",
              "    cursor: pointer;\n",
              "    display: none;\n",
              "    fill: var(--fill-color);\n",
              "    height: 32px;\n",
              "    padding: 0;\n",
              "    width: 32px;\n",
              "  }\n",
              "\n",
              "  .colab-df-quickchart:hover {\n",
              "    background-color: var(--hover-bg-color);\n",
              "    box-shadow: 0 1px 2px rgba(60, 64, 67, 0.3), 0 1px 3px 1px rgba(60, 64, 67, 0.15);\n",
              "    fill: var(--button-hover-fill-color);\n",
              "  }\n",
              "\n",
              "  .colab-df-quickchart-complete:disabled,\n",
              "  .colab-df-quickchart-complete:disabled:hover {\n",
              "    background-color: var(--disabled-bg-color);\n",
              "    fill: var(--disabled-fill-color);\n",
              "    box-shadow: none;\n",
              "  }\n",
              "\n",
              "  .colab-df-spinner {\n",
              "    border: 2px solid var(--fill-color);\n",
              "    border-color: transparent;\n",
              "    border-bottom-color: var(--fill-color);\n",
              "    animation:\n",
              "      spin 1s steps(1) infinite;\n",
              "  }\n",
              "\n",
              "  @keyframes spin {\n",
              "    0% {\n",
              "      border-color: transparent;\n",
              "      border-bottom-color: var(--fill-color);\n",
              "      border-left-color: var(--fill-color);\n",
              "    }\n",
              "    20% {\n",
              "      border-color: transparent;\n",
              "      border-left-color: var(--fill-color);\n",
              "      border-top-color: var(--fill-color);\n",
              "    }\n",
              "    30% {\n",
              "      border-color: transparent;\n",
              "      border-left-color: var(--fill-color);\n",
              "      border-top-color: var(--fill-color);\n",
              "      border-right-color: var(--fill-color);\n",
              "    }\n",
              "    40% {\n",
              "      border-color: transparent;\n",
              "      border-right-color: var(--fill-color);\n",
              "      border-top-color: var(--fill-color);\n",
              "    }\n",
              "    60% {\n",
              "      border-color: transparent;\n",
              "      border-right-color: var(--fill-color);\n",
              "    }\n",
              "    80% {\n",
              "      border-color: transparent;\n",
              "      border-right-color: var(--fill-color);\n",
              "      border-bottom-color: var(--fill-color);\n",
              "    }\n",
              "    90% {\n",
              "      border-color: transparent;\n",
              "      border-bottom-color: var(--fill-color);\n",
              "    }\n",
              "  }\n",
              "</style>\n",
              "\n",
              "  <script>\n",
              "    async function quickchart(key) {\n",
              "      const quickchartButtonEl =\n",
              "        document.querySelector('#' + key + ' button');\n",
              "      quickchartButtonEl.disabled = true;  // To prevent multiple clicks.\n",
              "      quickchartButtonEl.classList.add('colab-df-spinner');\n",
              "      try {\n",
              "        const charts = await google.colab.kernel.invokeFunction(\n",
              "            'suggestCharts', [key], {});\n",
              "      } catch (error) {\n",
              "        console.error('Error during call to suggestCharts:', error);\n",
              "      }\n",
              "      quickchartButtonEl.classList.remove('colab-df-spinner');\n",
              "      quickchartButtonEl.classList.add('colab-df-quickchart-complete');\n",
              "    }\n",
              "    (() => {\n",
              "      let quickchartButtonEl =\n",
              "        document.querySelector('#df-19f7128a-a067-4626-bfcc-853cd1cb3a0f button');\n",
              "      quickchartButtonEl.style.display =\n",
              "        google.colab.kernel.accessAllowed ? 'block' : 'none';\n",
              "    })();\n",
              "  </script>\n",
              "</div>\n",
              "\n",
              "  <div id=\"id_3301f17a-631f-4daa-bc0d-5299b0d8ff64\">\n",
              "    <style>\n",
              "      .colab-df-generate {\n",
              "        background-color: #E8F0FE;\n",
              "        border: none;\n",
              "        border-radius: 50%;\n",
              "        cursor: pointer;\n",
              "        display: none;\n",
              "        fill: #1967D2;\n",
              "        height: 32px;\n",
              "        padding: 0 0 0 0;\n",
              "        width: 32px;\n",
              "      }\n",
              "\n",
              "      .colab-df-generate:hover {\n",
              "        background-color: #E2EBFA;\n",
              "        box-shadow: 0px 1px 2px rgba(60, 64, 67, 0.3), 0px 1px 3px 1px rgba(60, 64, 67, 0.15);\n",
              "        fill: #174EA6;\n",
              "      }\n",
              "\n",
              "      [theme=dark] .colab-df-generate {\n",
              "        background-color: #3B4455;\n",
              "        fill: #D2E3FC;\n",
              "      }\n",
              "\n",
              "      [theme=dark] .colab-df-generate:hover {\n",
              "        background-color: #434B5C;\n",
              "        box-shadow: 0px 1px 3px 1px rgba(0, 0, 0, 0.15);\n",
              "        filter: drop-shadow(0px 1px 2px rgba(0, 0, 0, 0.3));\n",
              "        fill: #FFFFFF;\n",
              "      }\n",
              "    </style>\n",
              "    <button class=\"colab-df-generate\" onclick=\"generateWithVariable('df_m')\"\n",
              "            title=\"Generate code using this dataframe.\"\n",
              "            style=\"display:none;\">\n",
              "\n",
              "  <svg xmlns=\"http://www.w3.org/2000/svg\" height=\"24px\"viewBox=\"0 0 24 24\"\n",
              "       width=\"24px\">\n",
              "    <path d=\"M7,19H8.4L18.45,9,17,7.55,7,17.6ZM5,21V16.75L18.45,3.32a2,2,0,0,1,2.83,0l1.4,1.43a1.91,1.91,0,0,1,.58,1.4,1.91,1.91,0,0,1-.58,1.4L9.25,21ZM18.45,9,17,7.55Zm-12,3A5.31,5.31,0,0,0,4.9,8.1,5.31,5.31,0,0,0,1,6.5,5.31,5.31,0,0,0,4.9,4.9,5.31,5.31,0,0,0,6.5,1,5.31,5.31,0,0,0,8.1,4.9,5.31,5.31,0,0,0,12,6.5,5.46,5.46,0,0,0,6.5,12Z\"/>\n",
              "  </svg>\n",
              "    </button>\n",
              "    <script>\n",
              "      (() => {\n",
              "      const buttonEl =\n",
              "        document.querySelector('#id_3301f17a-631f-4daa-bc0d-5299b0d8ff64 button.colab-df-generate');\n",
              "      buttonEl.style.display =\n",
              "        google.colab.kernel.accessAllowed ? 'block' : 'none';\n",
              "\n",
              "      buttonEl.onclick = () => {\n",
              "        google.colab.notebook.generateWithVariable('df_m');\n",
              "      }\n",
              "      })();\n",
              "    </script>\n",
              "  </div>\n",
              "\n",
              "    </div>\n",
              "  </div>\n"
            ],
            "application/vnd.google.colaboratory.intrinsic+json": {
              "type": "dataframe",
              "variable_name": "df_m",
              "summary": "{\n  \"name\": \"df_m\",\n  \"rows\": 156,\n  \"fields\": [\n    {\n      \"column\": \"DATE\",\n      \"properties\": {\n        \"dtype\": \"date\",\n        \"min\": \"2010-01-31 00:00:00\",\n        \"max\": \"2022-12-31 00:00:00\",\n        \"num_unique_values\": 156,\n        \"samples\": [\n          \"2018-01-31 00:00:00\",\n          \"2015-10-31 00:00:00\",\n          \"2016-11-30 00:00:00\"\n        ],\n        \"semantic_type\": \"\",\n        \"description\": \"\"\n      }\n    },\n    {\n      \"column\": \"T_filled\",\n      \"properties\": {\n        \"dtype\": \"number\",\n        \"std\": 45.147414192169514,\n        \"min\": -5.623154121863799,\n        \"max\": 188.3044384667115,\n        \"num_unique_values\": 156,\n        \"samples\": [\n          50.54855413584398,\n          107.55967741935483,\n          51.09260293091416\n        ],\n        \"semantic_type\": \"\",\n        \"description\": \"\"\n      }\n    }\n  ]\n}"
            }
          },
          "metadata": {},
          "execution_count": 20
        }
      ],
      "source": [
        "df_m = df['T_filled'].resample('M').mean().reset_index()\n",
        "df_m"
      ]
    },
    {
      "cell_type": "markdown",
      "metadata": {
        "id": "d6Qvu7TpbSsj"
      },
      "source": [
        "### 2.4 Using `flaml` automl package to model the time serial data"
      ]
    },
    {
      "cell_type": "code",
      "execution_count": 21,
      "metadata": {
        "colab": {
          "base_uri": "https://localhost:8080/"
        },
        "collapsed": true,
        "id": "bcIBxBKiMTFO",
        "outputId": "2c51aea1-a256-4f07-d30f-6bc3d2ba05d9"
      },
      "outputs": [
        {
          "output_type": "stream",
          "name": "stdout",
          "text": [
            "[flaml.automl.logger: 08-19 09:52:38] {1680} INFO - task = ts_forecast\n",
            "[flaml.automl.logger: 08-19 09:52:38] {1691} INFO - Evaluation method: holdout\n",
            "[flaml.automl.logger: 08-19 09:52:38] {1789} INFO - Minimizing error metric: mape\n"
          ]
        },
        {
          "output_type": "stream",
          "name": "stderr",
          "text": [
            "INFO:flaml.automl.task.time_series_task:Couldn't import Prophet, skipping\n"
          ]
        },
        {
          "output_type": "stream",
          "name": "stdout",
          "text": [
            "[flaml.automl.logger: 08-19 09:52:38] {1901} INFO - List of ML learners in AutoML Run: ['lgbm', 'xgboost', 'extra_tree']\n",
            "[flaml.automl.logger: 08-19 09:52:38] {2219} INFO - iteration 0, current learner lgbm\n",
            "[flaml.automl.logger: 08-19 09:52:38] {2345} INFO - Estimated sufficient time budget=2827s. Estimated necessary time budget=3s.\n",
            "[flaml.automl.logger: 08-19 09:52:38] {2392} INFO -  at 0.5s,\testimator lgbm's best error=0.4035,\tbest estimator lgbm's best error=0.4035\n",
            "[flaml.automl.logger: 08-19 09:52:38] {2219} INFO - iteration 1, current learner lgbm\n",
            "[flaml.automl.logger: 08-19 09:52:38] {2392} INFO -  at 0.8s,\testimator lgbm's best error=0.4035,\tbest estimator lgbm's best error=0.4035\n",
            "[flaml.automl.logger: 08-19 09:52:38] {2219} INFO - iteration 2, current learner lgbm\n",
            "[flaml.automl.logger: 08-19 09:52:39] {2392} INFO -  at 1.0s,\testimator lgbm's best error=0.2530,\tbest estimator lgbm's best error=0.2530\n",
            "[flaml.automl.logger: 08-19 09:52:39] {2219} INFO - iteration 3, current learner lgbm\n",
            "[flaml.automl.logger: 08-19 09:52:39] {2392} INFO -  at 1.1s,\testimator lgbm's best error=0.2277,\tbest estimator lgbm's best error=0.2277\n",
            "[flaml.automl.logger: 08-19 09:52:39] {2219} INFO - iteration 4, current learner lgbm\n",
            "[flaml.automl.logger: 08-19 09:52:39] {2392} INFO -  at 1.3s,\testimator lgbm's best error=0.2277,\tbest estimator lgbm's best error=0.2277\n",
            "[flaml.automl.logger: 08-19 09:52:39] {2219} INFO - iteration 5, current learner lgbm\n",
            "[flaml.automl.logger: 08-19 09:52:39] {2392} INFO -  at 1.5s,\testimator lgbm's best error=0.2277,\tbest estimator lgbm's best error=0.2277\n",
            "[flaml.automl.logger: 08-19 09:52:39] {2219} INFO - iteration 6, current learner lgbm\n",
            "[flaml.automl.logger: 08-19 09:52:39] {2392} INFO -  at 1.7s,\testimator lgbm's best error=0.2277,\tbest estimator lgbm's best error=0.2277\n",
            "[flaml.automl.logger: 08-19 09:52:39] {2219} INFO - iteration 7, current learner lgbm\n",
            "[flaml.automl.logger: 08-19 09:52:39] {2392} INFO -  at 1.9s,\testimator lgbm's best error=0.2277,\tbest estimator lgbm's best error=0.2277\n",
            "[flaml.automl.logger: 08-19 09:52:39] {2219} INFO - iteration 8, current learner lgbm\n",
            "[flaml.automl.logger: 08-19 09:52:40] {2392} INFO -  at 2.0s,\testimator lgbm's best error=0.2277,\tbest estimator lgbm's best error=0.2277\n",
            "[flaml.automl.logger: 08-19 09:52:40] {2219} INFO - iteration 9, current learner lgbm\n",
            "[flaml.automl.logger: 08-19 09:52:40] {2392} INFO -  at 2.2s,\testimator lgbm's best error=0.1764,\tbest estimator lgbm's best error=0.1764\n",
            "[flaml.automl.logger: 08-19 09:52:40] {2219} INFO - iteration 10, current learner lgbm\n",
            "[flaml.automl.logger: 08-19 09:52:40] {2392} INFO -  at 2.3s,\testimator lgbm's best error=0.1764,\tbest estimator lgbm's best error=0.1764\n",
            "[flaml.automl.logger: 08-19 09:52:40] {2219} INFO - iteration 11, current learner lgbm\n",
            "[flaml.automl.logger: 08-19 09:52:40] {2392} INFO -  at 2.5s,\testimator lgbm's best error=0.1764,\tbest estimator lgbm's best error=0.1764\n",
            "[flaml.automl.logger: 08-19 09:52:40] {2219} INFO - iteration 12, current learner lgbm\n",
            "[flaml.automl.logger: 08-19 09:52:40] {2392} INFO -  at 2.7s,\testimator lgbm's best error=0.1724,\tbest estimator lgbm's best error=0.1724\n",
            "[flaml.automl.logger: 08-19 09:52:40] {2219} INFO - iteration 13, current learner lgbm\n",
            "[flaml.automl.logger: 08-19 09:52:40] {2392} INFO -  at 2.9s,\testimator lgbm's best error=0.1614,\tbest estimator lgbm's best error=0.1614\n",
            "[flaml.automl.logger: 08-19 09:52:40] {2219} INFO - iteration 14, current learner lgbm\n",
            "[flaml.automl.logger: 08-19 09:52:41] {2392} INFO -  at 3.0s,\testimator lgbm's best error=0.1614,\tbest estimator lgbm's best error=0.1614\n",
            "[flaml.automl.logger: 08-19 09:52:41] {2219} INFO - iteration 15, current learner lgbm\n",
            "[flaml.automl.logger: 08-19 09:52:41] {2392} INFO -  at 3.1s,\testimator lgbm's best error=0.1614,\tbest estimator lgbm's best error=0.1614\n",
            "[flaml.automl.logger: 08-19 09:52:41] {2219} INFO - iteration 16, current learner lgbm\n",
            "[flaml.automl.logger: 08-19 09:52:41] {2392} INFO -  at 3.3s,\testimator lgbm's best error=0.1614,\tbest estimator lgbm's best error=0.1614\n",
            "[flaml.automl.logger: 08-19 09:52:41] {2219} INFO - iteration 17, current learner lgbm\n",
            "[flaml.automl.logger: 08-19 09:52:41] {2392} INFO -  at 3.4s,\testimator lgbm's best error=0.1614,\tbest estimator lgbm's best error=0.1614\n",
            "[flaml.automl.logger: 08-19 09:52:41] {2219} INFO - iteration 18, current learner lgbm\n",
            "[flaml.automl.logger: 08-19 09:52:41] {2392} INFO -  at 3.6s,\testimator lgbm's best error=0.1614,\tbest estimator lgbm's best error=0.1614\n",
            "[flaml.automl.logger: 08-19 09:52:41] {2219} INFO - iteration 19, current learner lgbm\n",
            "[flaml.automl.logger: 08-19 09:52:41] {2392} INFO -  at 3.7s,\testimator lgbm's best error=0.1438,\tbest estimator lgbm's best error=0.1438\n",
            "[flaml.automl.logger: 08-19 09:52:41] {2219} INFO - iteration 20, current learner lgbm\n",
            "[flaml.automl.logger: 08-19 09:52:41] {2392} INFO -  at 3.9s,\testimator lgbm's best error=0.1438,\tbest estimator lgbm's best error=0.1438\n",
            "[flaml.automl.logger: 08-19 09:52:41] {2219} INFO - iteration 21, current learner lgbm\n",
            "[flaml.automl.logger: 08-19 09:52:42] {2392} INFO -  at 4.0s,\testimator lgbm's best error=0.1438,\tbest estimator lgbm's best error=0.1438\n",
            "[flaml.automl.logger: 08-19 09:52:42] {2219} INFO - iteration 22, current learner lgbm\n",
            "[flaml.automl.logger: 08-19 09:52:42] {2392} INFO -  at 4.2s,\testimator lgbm's best error=0.1438,\tbest estimator lgbm's best error=0.1438\n",
            "[flaml.automl.logger: 08-19 09:52:42] {2219} INFO - iteration 23, current learner lgbm\n",
            "[flaml.automl.logger: 08-19 09:52:42] {2392} INFO -  at 4.4s,\testimator lgbm's best error=0.1438,\tbest estimator lgbm's best error=0.1438\n",
            "[flaml.automl.logger: 08-19 09:52:42] {2219} INFO - iteration 24, current learner lgbm\n",
            "[flaml.automl.logger: 08-19 09:52:42] {2392} INFO -  at 4.7s,\testimator lgbm's best error=0.1438,\tbest estimator lgbm's best error=0.1438\n",
            "[flaml.automl.logger: 08-19 09:52:42] {2219} INFO - iteration 25, current learner lgbm\n",
            "[flaml.automl.logger: 08-19 09:52:42] {2392} INFO -  at 4.9s,\testimator lgbm's best error=0.1438,\tbest estimator lgbm's best error=0.1438\n",
            "[flaml.automl.logger: 08-19 09:52:42] {2219} INFO - iteration 26, current learner lgbm\n",
            "[flaml.automl.logger: 08-19 09:52:43] {2392} INFO -  at 5.0s,\testimator lgbm's best error=0.1438,\tbest estimator lgbm's best error=0.1438\n",
            "[flaml.automl.logger: 08-19 09:52:43] {2219} INFO - iteration 27, current learner lgbm\n",
            "[flaml.automl.logger: 08-19 09:52:43] {2392} INFO -  at 5.2s,\testimator lgbm's best error=0.1438,\tbest estimator lgbm's best error=0.1438\n",
            "[flaml.automl.logger: 08-19 09:52:43] {2219} INFO - iteration 28, current learner lgbm\n",
            "[flaml.automl.logger: 08-19 09:52:43] {2392} INFO -  at 5.7s,\testimator lgbm's best error=0.1438,\tbest estimator lgbm's best error=0.1438\n",
            "[flaml.automl.logger: 08-19 09:52:43] {2219} INFO - iteration 29, current learner lgbm\n",
            "[flaml.automl.logger: 08-19 09:52:43] {2392} INFO -  at 5.9s,\testimator lgbm's best error=0.1438,\tbest estimator lgbm's best error=0.1438\n",
            "[flaml.automl.logger: 08-19 09:52:43] {2219} INFO - iteration 30, current learner lgbm\n",
            "[flaml.automl.logger: 08-19 09:52:44] {2392} INFO -  at 6.1s,\testimator lgbm's best error=0.1438,\tbest estimator lgbm's best error=0.1438\n",
            "[flaml.automl.logger: 08-19 09:52:44] {2219} INFO - iteration 31, current learner lgbm\n",
            "[flaml.automl.logger: 08-19 09:52:44] {2392} INFO -  at 6.3s,\testimator lgbm's best error=0.1438,\tbest estimator lgbm's best error=0.1438\n",
            "[flaml.automl.logger: 08-19 09:52:44] {2219} INFO - iteration 32, current learner lgbm\n",
            "[flaml.automl.logger: 08-19 09:52:44] {2392} INFO -  at 6.5s,\testimator lgbm's best error=0.1438,\tbest estimator lgbm's best error=0.1438\n",
            "[flaml.automl.logger: 08-19 09:52:44] {2219} INFO - iteration 33, current learner lgbm\n",
            "[flaml.automl.logger: 08-19 09:52:44] {2392} INFO -  at 6.8s,\testimator lgbm's best error=0.1438,\tbest estimator lgbm's best error=0.1438\n",
            "[flaml.automl.logger: 08-19 09:52:44] {2219} INFO - iteration 34, current learner lgbm\n",
            "[flaml.automl.logger: 08-19 09:52:45] {2392} INFO -  at 7.0s,\testimator lgbm's best error=0.1438,\tbest estimator lgbm's best error=0.1438\n",
            "[flaml.automl.logger: 08-19 09:52:45] {2219} INFO - iteration 35, current learner lgbm\n",
            "[flaml.automl.logger: 08-19 09:52:45] {2392} INFO -  at 7.3s,\testimator lgbm's best error=0.1438,\tbest estimator lgbm's best error=0.1438\n",
            "[flaml.automl.logger: 08-19 09:52:45] {2219} INFO - iteration 36, current learner lgbm\n",
            "[flaml.automl.logger: 08-19 09:52:45] {2392} INFO -  at 7.5s,\testimator lgbm's best error=0.1438,\tbest estimator lgbm's best error=0.1438\n",
            "[flaml.automl.logger: 08-19 09:52:45] {2219} INFO - iteration 37, current learner lgbm\n",
            "[flaml.automl.logger: 08-19 09:52:45] {2392} INFO -  at 7.6s,\testimator lgbm's best error=0.1438,\tbest estimator lgbm's best error=0.1438\n",
            "[flaml.automl.logger: 08-19 09:52:45] {2219} INFO - iteration 38, current learner lgbm\n",
            "[flaml.automl.logger: 08-19 09:52:45] {2392} INFO -  at 7.8s,\testimator lgbm's best error=0.1438,\tbest estimator lgbm's best error=0.1438\n",
            "[flaml.automl.logger: 08-19 09:52:45] {2219} INFO - iteration 39, current learner lgbm\n",
            "[flaml.automl.logger: 08-19 09:52:46] {2392} INFO -  at 7.9s,\testimator lgbm's best error=0.1438,\tbest estimator lgbm's best error=0.1438\n",
            "[flaml.automl.logger: 08-19 09:52:46] {2219} INFO - iteration 40, current learner lgbm\n",
            "[flaml.automl.logger: 08-19 09:52:46] {2392} INFO -  at 8.1s,\testimator lgbm's best error=0.1438,\tbest estimator lgbm's best error=0.1438\n",
            "[flaml.automl.logger: 08-19 09:52:46] {2219} INFO - iteration 41, current learner lgbm\n",
            "[flaml.automl.logger: 08-19 09:52:46] {2392} INFO -  at 8.2s,\testimator lgbm's best error=0.1438,\tbest estimator lgbm's best error=0.1438\n",
            "[flaml.automl.logger: 08-19 09:52:46] {2219} INFO - iteration 42, current learner lgbm\n",
            "[flaml.automl.logger: 08-19 09:52:46] {2392} INFO -  at 8.3s,\testimator lgbm's best error=0.1438,\tbest estimator lgbm's best error=0.1438\n",
            "[flaml.automl.logger: 08-19 09:52:46] {2219} INFO - iteration 43, current learner lgbm\n",
            "[flaml.automl.logger: 08-19 09:52:46] {2392} INFO -  at 8.5s,\testimator lgbm's best error=0.1438,\tbest estimator lgbm's best error=0.1438\n",
            "[flaml.automl.logger: 08-19 09:52:46] {2219} INFO - iteration 44, current learner lgbm\n",
            "[flaml.automl.logger: 08-19 09:52:46] {2392} INFO -  at 8.6s,\testimator lgbm's best error=0.1438,\tbest estimator lgbm's best error=0.1438\n",
            "[flaml.automl.logger: 08-19 09:52:46] {2219} INFO - iteration 45, current learner lgbm\n",
            "[flaml.automl.logger: 08-19 09:52:46] {2392} INFO -  at 8.8s,\testimator lgbm's best error=0.1438,\tbest estimator lgbm's best error=0.1438\n",
            "[flaml.automl.logger: 08-19 09:52:46] {2219} INFO - iteration 46, current learner lgbm\n",
            "[flaml.automl.logger: 08-19 09:52:47] {2392} INFO -  at 8.9s,\testimator lgbm's best error=0.1438,\tbest estimator lgbm's best error=0.1438\n",
            "[flaml.automl.logger: 08-19 09:52:47] {2219} INFO - iteration 47, current learner lgbm\n",
            "[flaml.automl.logger: 08-19 09:52:47] {2392} INFO -  at 9.1s,\testimator lgbm's best error=0.1438,\tbest estimator lgbm's best error=0.1438\n",
            "[flaml.automl.logger: 08-19 09:52:47] {2219} INFO - iteration 48, current learner lgbm\n",
            "[flaml.automl.logger: 08-19 09:52:47] {2392} INFO -  at 9.2s,\testimator lgbm's best error=0.1438,\tbest estimator lgbm's best error=0.1438\n",
            "[flaml.automl.logger: 08-19 09:52:47] {2219} INFO - iteration 49, current learner lgbm\n",
            "[flaml.automl.logger: 08-19 09:52:47] {2392} INFO -  at 9.4s,\testimator lgbm's best error=0.1438,\tbest estimator lgbm's best error=0.1438\n",
            "[flaml.automl.logger: 08-19 09:52:47] {2219} INFO - iteration 50, current learner lgbm\n",
            "[flaml.automl.logger: 08-19 09:52:47] {2392} INFO -  at 9.5s,\testimator lgbm's best error=0.1438,\tbest estimator lgbm's best error=0.1438\n",
            "[flaml.automl.logger: 08-19 09:52:47] {2219} INFO - iteration 51, current learner lgbm\n",
            "[flaml.automl.logger: 08-19 09:52:47] {2392} INFO -  at 9.6s,\testimator lgbm's best error=0.1438,\tbest estimator lgbm's best error=0.1438\n",
            "[flaml.automl.logger: 08-19 09:52:47] {2219} INFO - iteration 52, current learner lgbm\n",
            "[flaml.automl.logger: 08-19 09:52:47] {2392} INFO -  at 9.8s,\testimator lgbm's best error=0.1438,\tbest estimator lgbm's best error=0.1438\n",
            "[flaml.automl.logger: 08-19 09:52:47] {2219} INFO - iteration 53, current learner lgbm\n",
            "[flaml.automl.logger: 08-19 09:52:48] {2392} INFO -  at 10.0s,\testimator lgbm's best error=0.1438,\tbest estimator lgbm's best error=0.1438\n",
            "[flaml.automl.logger: 08-19 09:52:48] {2219} INFO - iteration 54, current learner lgbm\n",
            "[flaml.automl.logger: 08-19 09:52:48] {2392} INFO -  at 10.1s,\testimator lgbm's best error=0.1438,\tbest estimator lgbm's best error=0.1438\n",
            "[flaml.automl.logger: 08-19 09:52:48] {2219} INFO - iteration 55, current learner lgbm\n",
            "[flaml.automl.logger: 08-19 09:52:48] {2392} INFO -  at 10.3s,\testimator lgbm's best error=0.1438,\tbest estimator lgbm's best error=0.1438\n",
            "[flaml.automl.logger: 08-19 09:52:48] {2219} INFO - iteration 56, current learner lgbm\n",
            "[flaml.automl.logger: 08-19 09:52:48] {2392} INFO -  at 10.4s,\testimator lgbm's best error=0.1438,\tbest estimator lgbm's best error=0.1438\n",
            "[flaml.automl.logger: 08-19 09:52:48] {2219} INFO - iteration 57, current learner lgbm\n",
            "[flaml.automl.logger: 08-19 09:52:48] {2392} INFO -  at 10.5s,\testimator lgbm's best error=0.1438,\tbest estimator lgbm's best error=0.1438\n",
            "[flaml.automl.logger: 08-19 09:52:48] {2219} INFO - iteration 58, current learner lgbm\n",
            "[flaml.automl.logger: 08-19 09:52:48] {2392} INFO -  at 10.7s,\testimator lgbm's best error=0.1390,\tbest estimator lgbm's best error=0.1390\n",
            "[flaml.automl.logger: 08-19 09:52:48] {2219} INFO - iteration 59, current learner lgbm\n",
            "[flaml.automl.logger: 08-19 09:52:48] {2392} INFO -  at 10.8s,\testimator lgbm's best error=0.1390,\tbest estimator lgbm's best error=0.1390\n",
            "[flaml.automl.logger: 08-19 09:52:48] {2219} INFO - iteration 60, current learner lgbm\n",
            "[flaml.automl.logger: 08-19 09:52:49] {2392} INFO -  at 11.0s,\testimator lgbm's best error=0.1390,\tbest estimator lgbm's best error=0.1390\n",
            "[flaml.automl.logger: 08-19 09:52:49] {2219} INFO - iteration 61, current learner lgbm\n",
            "[flaml.automl.logger: 08-19 09:52:49] {2392} INFO -  at 11.1s,\testimator lgbm's best error=0.1390,\tbest estimator lgbm's best error=0.1390\n",
            "[flaml.automl.logger: 08-19 09:52:49] {2219} INFO - iteration 62, current learner lgbm\n",
            "[flaml.automl.logger: 08-19 09:52:49] {2392} INFO -  at 11.3s,\testimator lgbm's best error=0.1390,\tbest estimator lgbm's best error=0.1390\n",
            "[flaml.automl.logger: 08-19 09:52:49] {2219} INFO - iteration 63, current learner lgbm\n",
            "[flaml.automl.logger: 08-19 09:52:49] {2392} INFO -  at 11.4s,\testimator lgbm's best error=0.1390,\tbest estimator lgbm's best error=0.1390\n",
            "[flaml.automl.logger: 08-19 09:52:49] {2219} INFO - iteration 64, current learner lgbm\n",
            "[flaml.automl.logger: 08-19 09:52:49] {2392} INFO -  at 11.6s,\testimator lgbm's best error=0.1390,\tbest estimator lgbm's best error=0.1390\n",
            "[flaml.automl.logger: 08-19 09:52:49] {2219} INFO - iteration 65, current learner lgbm\n",
            "[flaml.automl.logger: 08-19 09:52:49] {2392} INFO -  at 11.7s,\testimator lgbm's best error=0.1390,\tbest estimator lgbm's best error=0.1390\n",
            "[flaml.automl.logger: 08-19 09:52:49] {2219} INFO - iteration 66, current learner lgbm\n",
            "[flaml.automl.logger: 08-19 09:52:49] {2392} INFO -  at 11.8s,\testimator lgbm's best error=0.1390,\tbest estimator lgbm's best error=0.1390\n",
            "[flaml.automl.logger: 08-19 09:52:49] {2219} INFO - iteration 67, current learner lgbm\n",
            "[flaml.automl.logger: 08-19 09:52:50] {2392} INFO -  at 12.0s,\testimator lgbm's best error=0.1390,\tbest estimator lgbm's best error=0.1390\n",
            "[flaml.automl.logger: 08-19 09:52:50] {2219} INFO - iteration 68, current learner lgbm\n",
            "[flaml.automl.logger: 08-19 09:52:50] {2392} INFO -  at 12.2s,\testimator lgbm's best error=0.1390,\tbest estimator lgbm's best error=0.1390\n",
            "[flaml.automl.logger: 08-19 09:52:50] {2219} INFO - iteration 69, current learner lgbm\n",
            "[flaml.automl.logger: 08-19 09:52:50] {2392} INFO -  at 12.3s,\testimator lgbm's best error=0.1390,\tbest estimator lgbm's best error=0.1390\n",
            "[flaml.automl.logger: 08-19 09:52:50] {2219} INFO - iteration 70, current learner lgbm\n",
            "[flaml.automl.logger: 08-19 09:52:50] {2392} INFO -  at 12.5s,\testimator lgbm's best error=0.1390,\tbest estimator lgbm's best error=0.1390\n",
            "[flaml.automl.logger: 08-19 09:52:50] {2219} INFO - iteration 71, current learner lgbm\n",
            "[flaml.automl.logger: 08-19 09:52:50] {2392} INFO -  at 12.6s,\testimator lgbm's best error=0.1390,\tbest estimator lgbm's best error=0.1390\n",
            "[flaml.automl.logger: 08-19 09:52:50] {2219} INFO - iteration 72, current learner lgbm\n",
            "[flaml.automl.logger: 08-19 09:52:50] {2392} INFO -  at 12.8s,\testimator lgbm's best error=0.1390,\tbest estimator lgbm's best error=0.1390\n",
            "[flaml.automl.logger: 08-19 09:52:50] {2219} INFO - iteration 73, current learner lgbm\n",
            "[flaml.automl.logger: 08-19 09:52:51] {2392} INFO -  at 12.9s,\testimator lgbm's best error=0.1390,\tbest estimator lgbm's best error=0.1390\n",
            "[flaml.automl.logger: 08-19 09:52:51] {2219} INFO - iteration 74, current learner lgbm\n",
            "[flaml.automl.logger: 08-19 09:52:51] {2392} INFO -  at 13.1s,\testimator lgbm's best error=0.1390,\tbest estimator lgbm's best error=0.1390\n",
            "[flaml.automl.logger: 08-19 09:52:51] {2219} INFO - iteration 75, current learner lgbm\n",
            "[flaml.automl.logger: 08-19 09:52:51] {2392} INFO -  at 13.2s,\testimator lgbm's best error=0.1390,\tbest estimator lgbm's best error=0.1390\n",
            "[flaml.automl.logger: 08-19 09:52:51] {2219} INFO - iteration 76, current learner lgbm\n",
            "[flaml.automl.logger: 08-19 09:52:51] {2392} INFO -  at 13.3s,\testimator lgbm's best error=0.1390,\tbest estimator lgbm's best error=0.1390\n",
            "[flaml.automl.logger: 08-19 09:52:51] {2219} INFO - iteration 77, current learner lgbm\n",
            "[flaml.automl.logger: 08-19 09:52:51] {2392} INFO -  at 13.5s,\testimator lgbm's best error=0.1390,\tbest estimator lgbm's best error=0.1390\n",
            "[flaml.automl.logger: 08-19 09:52:51] {2219} INFO - iteration 78, current learner lgbm\n",
            "[flaml.automl.logger: 08-19 09:52:51] {2392} INFO -  at 13.7s,\testimator lgbm's best error=0.1390,\tbest estimator lgbm's best error=0.1390\n",
            "[flaml.automl.logger: 08-19 09:52:51] {2219} INFO - iteration 79, current learner lgbm\n",
            "[flaml.automl.logger: 08-19 09:52:51] {2392} INFO -  at 13.9s,\testimator lgbm's best error=0.1390,\tbest estimator lgbm's best error=0.1390\n",
            "[flaml.automl.logger: 08-19 09:52:51] {2219} INFO - iteration 80, current learner lgbm\n",
            "[flaml.automl.logger: 08-19 09:52:52] {2392} INFO -  at 14.0s,\testimator lgbm's best error=0.1390,\tbest estimator lgbm's best error=0.1390\n",
            "[flaml.automl.logger: 08-19 09:52:52] {2219} INFO - iteration 81, current learner lgbm\n",
            "[flaml.automl.logger: 08-19 09:52:52] {2392} INFO -  at 14.1s,\testimator lgbm's best error=0.1390,\tbest estimator lgbm's best error=0.1390\n",
            "[flaml.automl.logger: 08-19 09:52:52] {2219} INFO - iteration 82, current learner lgbm\n",
            "[flaml.automl.logger: 08-19 09:52:52] {2392} INFO -  at 14.3s,\testimator lgbm's best error=0.1390,\tbest estimator lgbm's best error=0.1390\n",
            "[flaml.automl.logger: 08-19 09:52:52] {2219} INFO - iteration 83, current learner lgbm\n",
            "[flaml.automl.logger: 08-19 09:52:52] {2392} INFO -  at 14.5s,\testimator lgbm's best error=0.1390,\tbest estimator lgbm's best error=0.1390\n",
            "[flaml.automl.logger: 08-19 09:52:52] {2219} INFO - iteration 84, current learner lgbm\n",
            "[flaml.automl.logger: 08-19 09:52:52] {2392} INFO -  at 14.6s,\testimator lgbm's best error=0.1390,\tbest estimator lgbm's best error=0.1390\n",
            "[flaml.automl.logger: 08-19 09:52:52] {2219} INFO - iteration 85, current learner lgbm\n",
            "[flaml.automl.logger: 08-19 09:52:52] {2392} INFO -  at 14.8s,\testimator lgbm's best error=0.1390,\tbest estimator lgbm's best error=0.1390\n",
            "[flaml.automl.logger: 08-19 09:52:52] {2219} INFO - iteration 86, current learner lgbm\n",
            "[flaml.automl.logger: 08-19 09:52:53] {2392} INFO -  at 14.9s,\testimator lgbm's best error=0.1390,\tbest estimator lgbm's best error=0.1390\n",
            "[flaml.automl.logger: 08-19 09:52:53] {2219} INFO - iteration 87, current learner xgboost\n",
            "[flaml.automl.logger: 08-19 09:52:54] {2392} INFO -  at 16.5s,\testimator xgboost's best error=0.4106,\tbest estimator lgbm's best error=0.1390\n",
            "[flaml.automl.logger: 08-19 09:52:54] {2628} INFO - retrain lgbm for 0.1s\n",
            "[flaml.automl.logger: 08-19 09:52:54] {2631} INFO - retrained model: <flaml.automl.time_series.sklearn.SklearnWrapper object at 0x783e9c55f6a0>\n",
            "[flaml.automl.logger: 08-19 09:52:54] {1931} INFO - fit succeeded\n",
            "[flaml.automl.logger: 08-19 09:52:54] {1932} INFO - Time taken to find the best model: 10.66191554069519\n"
          ]
        }
      ],
      "source": [
        "# 1 initialize an instance of automl\n",
        "automl = AutoML()\n",
        "\n",
        "# 2 use the data excluding last 12 data for training\n",
        "X_train = df_m.iloc[0:len(df_m)-12]\n",
        "\n",
        "# 3 train the model\n",
        "automl.fit(\n",
        "    dataframe=X_train,  # dataframe with the column of timestamp\n",
        "    label=\"T_filled\",  # value column name\n",
        "    period=12,  # time horizon to forecast, e.g., 12 months\n",
        "    task=\"ts_forecast\",\n",
        "    time_budget=15,  # time budget in seconds\n",
        "    log_file_name=\"ts_forecast.log\",\n",
        "    eval_method=\"holdout\",\n",
        "    estimator_list=[\n",
        "        \"lgbm\",\n",
        "        \"xgboost\",\n",
        "        \"extra_tree\",\n",
        "    ],\n",
        ")"
      ]
    },
    {
      "cell_type": "code",
      "execution_count": 22,
      "metadata": {
        "id": "A27SeHeoMTFO"
      },
      "outputs": [],
      "source": [
        "# 4 use the last 12 data for testing\n",
        "df_m_test = df_m.iloc[len(df_m)-12:]"
      ]
    },
    {
      "cell_type": "code",
      "execution_count": 23,
      "metadata": {
        "id": "nHUbTRDjMTFO"
      },
      "outputs": [],
      "source": [
        "# 5 precdtion using the model\n",
        "prediction = automl.predict(df_m_test)"
      ]
    },
    {
      "cell_type": "markdown",
      "metadata": {
        "id": "RMN7c0WkcXbR"
      },
      "source": [
        "### 2.5 Ploting"
      ]
    },
    {
      "cell_type": "code",
      "execution_count": 24,
      "metadata": {
        "colab": {
          "base_uri": "https://localhost:8080/",
          "height": 447
        },
        "id": "crI-PgKBMTFO",
        "outputId": "72e352aa-0be2-4b61-e1dd-1bb57f0c184e"
      },
      "outputs": [
        {
          "output_type": "execute_result",
          "data": {
            "text/plain": [
              "<matplotlib.legend.Legend at 0x783ea357e9e0>"
            ]
          },
          "metadata": {},
          "execution_count": 24
        },
        {
          "output_type": "display_data",
          "data": {
            "text/plain": [
              "<Figure size 640x480 with 1 Axes>"
            ],
            "image/png": "[encoded data removed]"
          },
          "metadata": {}
        }
      ],
      "source": [
        "# 6 plot the result\n",
        "plt.plot(df_m_test['T_filled'], label='True')\n",
        "plt.plot(prediction, label='Prediction')\n",
        "plt.legend()"
      ]
    },
    {
      "cell_type": "markdown",
      "metadata": {
        "id": "iG_09-yBcu1w"
      },
      "source": [
        "### 2.6 calculate the error metrics\n",
        "\n",
        "\\begin{equation}\n",
        "    \\text{MSE} = \\frac{1}{n} \\sum_{i=1}^n (y_i - \\hat{y}_i)^2,\n",
        "\\end{equation}\n",
        "\n",
        "\\begin{equation}\n",
        "    \\text{RMSE} = \\sqrt{\\text{MSE}} = \\sqrt{\\frac{1}{n} \\sum_{i=1}^n (y_i - \\hat{y}_i)^2},\n",
        "\\end{equation}\n",
        "\n",
        "\\begin{equation}\n",
        "    \\text{MAE} = \\frac{1}{n} \\sum_{i=1}^n |y_i - \\hat{y}_i|,\n",
        "\\end{equation}\n",
        "\n",
        "\\begin{equation}\n",
        "    \\text{R2} = 1 - \\frac{\\sum_{i=1}^n (y_i - \\hat{y}_i)^2}{\\sum_{i=1}^n (y_i - \\bar{y_m})^2},\n",
        "\\end{equation}\n",
        "\n",
        "where $y_i$ and $y{\\hat{}}_i$ are the observations and model predictions, respectively; n is the number of samples; $y_m$ is the mean of the observations."
      ]
    },
    {
      "cell_type": "code",
      "execution_count": null,
      "metadata": {
        "id": "YAUNIthKdlni"
      },
      "outputs": [],
      "source": [
        "# example: calculate the MSE, RMSE, MAE and R2 using the equations\n"
      ]
    },
    {
      "cell_type": "markdown",
      "metadata": {
        "id": "w0O3KvbCgYDq"
      },
      "source": [
        "## 3 Daily temperature prediction\n",
        "---"
      ]
    },
    {
      "cell_type": "code",
      "execution_count": null,
      "metadata": {
        "id": "3USVaQ2Jr98b"
      },
      "outputs": [],
      "source": [
        "df_D = df['T_filled'].resample('D').mean().reset_index()"
      ]
    },
    {
      "cell_type": "code",
      "execution_count": null,
      "metadata": {
        "colab": {
          "base_uri": "https://localhost:8080/"
        },
        "id": "xqd-lkYfPzAd",
        "outputId": "26b4e54b-2410-4b93-ce6c-21b6d192acac"
      },
      "outputs": [
        {
          "name": "stdout",
          "output_type": "stream",
          "text": [
            "[flaml.automl.logger: 08-15 10:58:17] {1680} INFO - task = ts_forecast\n",
            "[flaml.automl.logger: 08-15 10:58:17] {1691} INFO - Evaluation method: holdout\n",
            "[flaml.automl.logger: 08-15 10:58:17] {1789} INFO - Minimizing error metric: mape\n"
          ]
        },
        {
          "name": "stderr",
          "output_type": "stream",
          "text": [
            "INFO:flaml.automl.task.time_series_task:Couldn't import Prophet, skipping\n"
          ]
        },
        {
          "name": "stdout",
          "output_type": "stream",
          "text": [
            "[flaml.automl.logger: 08-15 10:58:17] {1901} INFO - List of ML learners in AutoML Run: ['lgbm']\n",
            "[flaml.automl.logger: 08-15 10:58:17] {2219} INFO - iteration 0, current learner lgbm\n",
            "[flaml.automl.logger: 08-15 10:58:18] {2345} INFO - Estimated sufficient time budget=4766s. Estimated necessary time budget=5s.\n",
            "[flaml.automl.logger: 08-15 10:58:18] {2392} INFO -  at 0.5s,\testimator lgbm's best error=0.6820,\tbest estimator lgbm's best error=0.6820\n",
            "[flaml.automl.logger: 08-15 10:58:18] {2219} INFO - iteration 1, current learner lgbm\n",
            "[flaml.automl.logger: 08-15 10:58:19] {2392} INFO -  at 1.5s,\testimator lgbm's best error=0.6820,\tbest estimator lgbm's best error=0.6820\n",
            "[flaml.automl.logger: 08-15 10:58:19] {2219} INFO - iteration 2, current learner lgbm\n",
            "[flaml.automl.logger: 08-15 10:58:19] {2392} INFO -  at 1.6s,\testimator lgbm's best error=0.2841,\tbest estimator lgbm's best error=0.2841\n",
            "[flaml.automl.logger: 08-15 10:58:19] {2219} INFO - iteration 3, current learner lgbm\n",
            "[flaml.automl.logger: 08-15 10:58:19] {2392} INFO -  at 1.8s,\testimator lgbm's best error=0.0686,\tbest estimator lgbm's best error=0.0686\n",
            "[flaml.automl.logger: 08-15 10:58:19] {2219} INFO - iteration 4, current learner lgbm\n",
            "[flaml.automl.logger: 08-15 10:58:19] {2392} INFO -  at 2.1s,\testimator lgbm's best error=0.0686,\tbest estimator lgbm's best error=0.0686\n",
            "[flaml.automl.logger: 08-15 10:58:19] {2219} INFO - iteration 5, current learner lgbm\n",
            "[flaml.automl.logger: 08-15 10:58:19] {2392} INFO -  at 2.2s,\testimator lgbm's best error=0.0686,\tbest estimator lgbm's best error=0.0686\n",
            "[flaml.automl.logger: 08-15 10:58:19] {2219} INFO - iteration 6, current learner lgbm\n",
            "[flaml.automl.logger: 08-15 10:58:20] {2392} INFO -  at 2.8s,\testimator lgbm's best error=0.0036,\tbest estimator lgbm's best error=0.0036\n",
            "[flaml.automl.logger: 08-15 10:58:20] {2219} INFO - iteration 7, current learner lgbm\n",
            "[flaml.automl.logger: 08-15 10:58:21] {2392} INFO -  at 3.7s,\testimator lgbm's best error=0.0036,\tbest estimator lgbm's best error=0.0036\n",
            "[flaml.automl.logger: 08-15 10:58:21] {2219} INFO - iteration 8, current learner lgbm\n",
            "[flaml.automl.logger: 08-15 10:58:21] {2392} INFO -  at 4.0s,\testimator lgbm's best error=0.0036,\tbest estimator lgbm's best error=0.0036\n",
            "[flaml.automl.logger: 08-15 10:58:21] {2219} INFO - iteration 9, current learner lgbm\n",
            "[flaml.automl.logger: 08-15 10:58:22] {2392} INFO -  at 4.7s,\testimator lgbm's best error=0.0036,\tbest estimator lgbm's best error=0.0036\n",
            "[flaml.automl.logger: 08-15 10:58:22] {2219} INFO - iteration 10, current learner lgbm\n",
            "[flaml.automl.logger: 08-15 10:58:22] {2392} INFO -  at 5.4s,\testimator lgbm's best error=0.0036,\tbest estimator lgbm's best error=0.0036\n",
            "[flaml.automl.logger: 08-15 10:58:22] {2219} INFO - iteration 11, current learner lgbm\n",
            "[flaml.automl.logger: 08-15 10:58:24] {2392} INFO -  at 7.2s,\testimator lgbm's best error=0.0036,\tbest estimator lgbm's best error=0.0036\n",
            "[flaml.automl.logger: 08-15 10:58:24] {2219} INFO - iteration 12, current learner lgbm\n",
            "[flaml.automl.logger: 08-15 10:58:24] {2392} INFO -  at 7.4s,\testimator lgbm's best error=0.0036,\tbest estimator lgbm's best error=0.0036\n",
            "[flaml.automl.logger: 08-15 10:58:24] {2219} INFO - iteration 13, current learner lgbm\n",
            "[flaml.automl.logger: 08-15 10:58:25] {2392} INFO -  at 7.9s,\testimator lgbm's best error=0.0036,\tbest estimator lgbm's best error=0.0036\n",
            "[flaml.automl.logger: 08-15 10:58:25] {2219} INFO - iteration 14, current learner lgbm\n",
            "[flaml.automl.logger: 08-15 10:58:25] {2392} INFO -  at 8.2s,\testimator lgbm's best error=0.0036,\tbest estimator lgbm's best error=0.0036\n",
            "[flaml.automl.logger: 08-15 10:58:25] {2219} INFO - iteration 15, current learner lgbm\n",
            "[flaml.automl.logger: 08-15 10:58:26] {2392} INFO -  at 8.7s,\testimator lgbm's best error=0.0036,\tbest estimator lgbm's best error=0.0036\n",
            "[flaml.automl.logger: 08-15 10:58:26] {2219} INFO - iteration 16, current learner lgbm\n",
            "[flaml.automl.logger: 08-15 10:58:26] {2392} INFO -  at 9.1s,\testimator lgbm's best error=0.0036,\tbest estimator lgbm's best error=0.0036\n",
            "[flaml.automl.logger: 08-15 10:58:26] {2219} INFO - iteration 17, current learner lgbm\n",
            "[flaml.automl.logger: 08-15 10:58:27] {2392} INFO -  at 9.8s,\testimator lgbm's best error=0.0036,\tbest estimator lgbm's best error=0.0036\n",
            "[flaml.automl.logger: 08-15 10:58:27] {2219} INFO - iteration 18, current learner lgbm\n",
            "[flaml.automl.logger: 08-15 10:58:27] {2392} INFO -  at 10.1s,\testimator lgbm's best error=0.0036,\tbest estimator lgbm's best error=0.0036\n",
            "[flaml.automl.logger: 08-15 10:58:27] {2219} INFO - iteration 19, current learner lgbm\n",
            "[flaml.automl.logger: 08-15 10:58:27] {2392} INFO -  at 10.3s,\testimator lgbm's best error=0.0036,\tbest estimator lgbm's best error=0.0036\n",
            "[flaml.automl.logger: 08-15 10:58:27] {2219} INFO - iteration 20, current learner lgbm\n",
            "[flaml.automl.logger: 08-15 10:58:28] {2392} INFO -  at 11.3s,\testimator lgbm's best error=0.0036,\tbest estimator lgbm's best error=0.0036\n",
            "[flaml.automl.logger: 08-15 10:58:28] {2219} INFO - iteration 21, current learner lgbm\n",
            "[flaml.automl.logger: 08-15 10:58:29] {2392} INFO -  at 11.6s,\testimator lgbm's best error=0.0036,\tbest estimator lgbm's best error=0.0036\n",
            "[flaml.automl.logger: 08-15 10:58:29] {2219} INFO - iteration 22, current learner lgbm\n",
            "[flaml.automl.logger: 08-15 10:58:29] {2392} INFO -  at 12.2s,\testimator lgbm's best error=0.0036,\tbest estimator lgbm's best error=0.0036\n",
            "[flaml.automl.logger: 08-15 10:58:29] {2219} INFO - iteration 23, current learner lgbm\n",
            "[flaml.automl.logger: 08-15 10:58:29] {2392} INFO -  at 12.4s,\testimator lgbm's best error=0.0036,\tbest estimator lgbm's best error=0.0036\n",
            "[flaml.automl.logger: 08-15 10:58:30] {2219} INFO - iteration 24, current learner lgbm\n",
            "[flaml.automl.logger: 08-15 10:58:30] {2392} INFO -  at 13.3s,\testimator lgbm's best error=0.0036,\tbest estimator lgbm's best error=0.0036\n",
            "[flaml.automl.logger: 08-15 10:58:30] {2219} INFO - iteration 25, current learner lgbm\n",
            "[flaml.automl.logger: 08-15 10:58:31] {2392} INFO -  at 14.3s,\testimator lgbm's best error=0.0036,\tbest estimator lgbm's best error=0.0036\n",
            "[flaml.automl.logger: 08-15 10:58:31] {2219} INFO - iteration 26, current learner lgbm\n",
            "[flaml.automl.logger: 08-15 10:58:32] {2392} INFO -  at 14.4s,\testimator lgbm's best error=0.0036,\tbest estimator lgbm's best error=0.0036\n",
            "[flaml.automl.logger: 08-15 10:58:32] {2219} INFO - iteration 27, current learner lgbm\n",
            "[flaml.automl.logger: 08-15 10:58:32] {2392} INFO -  at 14.7s,\testimator lgbm's best error=0.0036,\tbest estimator lgbm's best error=0.0036\n",
            "[flaml.automl.logger: 08-15 10:58:32] {2219} INFO - iteration 28, current learner lgbm\n",
            "[flaml.automl.logger: 08-15 10:58:32] {2392} INFO -  at 15.2s,\testimator lgbm's best error=0.0036,\tbest estimator lgbm's best error=0.0036\n",
            "[flaml.automl.logger: 08-15 10:58:32] {2219} INFO - iteration 29, current learner lgbm\n",
            "[flaml.automl.logger: 08-15 10:58:32] {2392} INFO -  at 15.4s,\testimator lgbm's best error=0.0036,\tbest estimator lgbm's best error=0.0036\n",
            "[flaml.automl.logger: 08-15 10:58:32] {2219} INFO - iteration 30, current learner lgbm\n",
            "[flaml.automl.logger: 08-15 10:58:33] {2392} INFO -  at 16.2s,\testimator lgbm's best error=0.0036,\tbest estimator lgbm's best error=0.0036\n",
            "[flaml.automl.logger: 08-15 10:58:33] {2219} INFO - iteration 31, current learner lgbm\n",
            "[flaml.automl.logger: 08-15 10:58:33] {2392} INFO -  at 16.4s,\testimator lgbm's best error=0.0036,\tbest estimator lgbm's best error=0.0036\n",
            "[flaml.automl.logger: 08-15 10:58:33] {2219} INFO - iteration 32, current learner lgbm\n",
            "[flaml.automl.logger: 08-15 10:58:35] {2392} INFO -  at 17.9s,\testimator lgbm's best error=0.0036,\tbest estimator lgbm's best error=0.0036\n",
            "[flaml.automl.logger: 08-15 10:58:35] {2219} INFO - iteration 33, current learner lgbm\n",
            "[flaml.automl.logger: 08-15 10:58:36] {2392} INFO -  at 19.0s,\testimator lgbm's best error=0.0036,\tbest estimator lgbm's best error=0.0036\n",
            "[flaml.automl.logger: 08-15 10:58:36] {2219} INFO - iteration 34, current learner lgbm\n",
            "[flaml.automl.logger: 08-15 10:58:36] {2392} INFO -  at 19.4s,\testimator lgbm's best error=0.0036,\tbest estimator lgbm's best error=0.0036\n",
            "[flaml.automl.logger: 08-15 10:58:36] {2219} INFO - iteration 35, current learner lgbm\n",
            "[flaml.automl.logger: 08-15 10:58:37] {2392} INFO -  at 20.3s,\testimator lgbm's best error=0.0036,\tbest estimator lgbm's best error=0.0036\n",
            "[flaml.automl.logger: 08-15 10:58:37] {2219} INFO - iteration 36, current learner lgbm\n",
            "[flaml.automl.logger: 08-15 10:58:38] {2392} INFO -  at 20.6s,\testimator lgbm's best error=0.0036,\tbest estimator lgbm's best error=0.0036\n",
            "[flaml.automl.logger: 08-15 10:58:38] {2219} INFO - iteration 37, current learner lgbm\n",
            "[flaml.automl.logger: 08-15 10:58:38] {2392} INFO -  at 21.0s,\testimator lgbm's best error=0.0036,\tbest estimator lgbm's best error=0.0036\n",
            "[flaml.automl.logger: 08-15 10:58:38] {2219} INFO - iteration 38, current learner lgbm\n",
            "[flaml.automl.logger: 08-15 10:58:39] {2392} INFO -  at 21.5s,\testimator lgbm's best error=0.0036,\tbest estimator lgbm's best error=0.0036\n",
            "[flaml.automl.logger: 08-15 10:58:39] {2219} INFO - iteration 39, current learner lgbm\n",
            "[flaml.automl.logger: 08-15 10:58:39] {2392} INFO -  at 22.1s,\testimator lgbm's best error=0.0036,\tbest estimator lgbm's best error=0.0036\n",
            "[flaml.automl.logger: 08-15 10:58:39] {2219} INFO - iteration 40, current learner lgbm\n",
            "[flaml.automl.logger: 08-15 10:58:39] {2392} INFO -  at 22.3s,\testimator lgbm's best error=0.0036,\tbest estimator lgbm's best error=0.0036\n",
            "[flaml.automl.logger: 08-15 10:58:39] {2219} INFO - iteration 41, current learner lgbm\n",
            "[flaml.automl.logger: 08-15 10:58:40] {2392} INFO -  at 23.1s,\testimator lgbm's best error=0.0014,\tbest estimator lgbm's best error=0.0014\n",
            "[flaml.automl.logger: 08-15 10:58:40] {2219} INFO - iteration 42, current learner lgbm\n",
            "[flaml.automl.logger: 08-15 10:58:41] {2392} INFO -  at 23.5s,\testimator lgbm's best error=0.0014,\tbest estimator lgbm's best error=0.0014\n",
            "[flaml.automl.logger: 08-15 10:58:41] {2219} INFO - iteration 43, current learner lgbm\n",
            "[flaml.automl.logger: 08-15 10:58:41] {2392} INFO -  at 23.9s,\testimator lgbm's best error=0.0014,\tbest estimator lgbm's best error=0.0014\n",
            "[flaml.automl.logger: 08-15 10:58:41] {2219} INFO - iteration 44, current learner lgbm\n",
            "[flaml.automl.logger: 08-15 10:58:42] {2392} INFO -  at 24.8s,\testimator lgbm's best error=0.0014,\tbest estimator lgbm's best error=0.0014\n",
            "[flaml.automl.logger: 08-15 10:58:42] {2219} INFO - iteration 45, current learner lgbm\n",
            "[flaml.automl.logger: 08-15 10:58:43] {2392} INFO -  at 26.1s,\testimator lgbm's best error=0.0014,\tbest estimator lgbm's best error=0.0014\n",
            "[flaml.automl.logger: 08-15 10:58:43] {2219} INFO - iteration 46, current learner lgbm\n",
            "[flaml.automl.logger: 08-15 10:58:43] {2392} INFO -  at 26.4s,\testimator lgbm's best error=0.0014,\tbest estimator lgbm's best error=0.0014\n",
            "[flaml.automl.logger: 08-15 10:58:43] {2219} INFO - iteration 47, current learner lgbm\n",
            "[flaml.automl.logger: 08-15 10:58:44] {2392} INFO -  at 27.1s,\testimator lgbm's best error=0.0014,\tbest estimator lgbm's best error=0.0014\n",
            "[flaml.automl.logger: 08-15 10:58:44] {2219} INFO - iteration 48, current learner lgbm\n",
            "[flaml.automl.logger: 08-15 10:58:45] {2392} INFO -  at 27.8s,\testimator lgbm's best error=0.0014,\tbest estimator lgbm's best error=0.0014\n",
            "[flaml.automl.logger: 08-15 10:58:45] {2219} INFO - iteration 49, current learner lgbm\n",
            "[flaml.automl.logger: 08-15 10:58:46] {2392} INFO -  at 28.6s,\testimator lgbm's best error=0.0014,\tbest estimator lgbm's best error=0.0014\n",
            "[flaml.automl.logger: 08-15 10:58:46] {2219} INFO - iteration 50, current learner lgbm\n",
            "[flaml.automl.logger: 08-15 10:58:46] {2392} INFO -  at 29.0s,\testimator lgbm's best error=0.0014,\tbest estimator lgbm's best error=0.0014\n",
            "[flaml.automl.logger: 08-15 10:58:46] {2219} INFO - iteration 51, current learner lgbm\n",
            "[flaml.automl.logger: 08-15 10:58:47] {2392} INFO -  at 29.4s,\testimator lgbm's best error=0.0014,\tbest estimator lgbm's best error=0.0014\n",
            "[flaml.automl.logger: 08-15 10:58:47] {2219} INFO - iteration 52, current learner lgbm\n",
            "[flaml.automl.logger: 08-15 10:58:51] {2392} INFO -  at 34.2s,\testimator lgbm's best error=0.0014,\tbest estimator lgbm's best error=0.0014\n",
            "[flaml.automl.logger: 08-15 10:58:51] {2219} INFO - iteration 53, current learner lgbm\n",
            "[flaml.automl.logger: 08-15 10:58:54] {2392} INFO -  at 36.9s,\testimator lgbm's best error=0.0014,\tbest estimator lgbm's best error=0.0014\n",
            "[flaml.automl.logger: 08-15 10:58:54] {2219} INFO - iteration 54, current learner lgbm\n",
            "[flaml.automl.logger: 08-15 10:58:54] {2392} INFO -  at 37.1s,\testimator lgbm's best error=0.0014,\tbest estimator lgbm's best error=0.0014\n",
            "[flaml.automl.logger: 08-15 10:58:54] {2219} INFO - iteration 55, current learner lgbm\n",
            "[flaml.automl.logger: 08-15 10:58:55] {2392} INFO -  at 38.4s,\testimator lgbm's best error=0.0014,\tbest estimator lgbm's best error=0.0014\n",
            "[flaml.automl.logger: 08-15 10:58:55] {2219} INFO - iteration 56, current learner lgbm\n",
            "[flaml.automl.logger: 08-15 10:58:56] {2392} INFO -  at 38.7s,\testimator lgbm's best error=0.0014,\tbest estimator lgbm's best error=0.0014\n",
            "[flaml.automl.logger: 08-15 10:58:56] {2219} INFO - iteration 57, current learner lgbm\n",
            "[flaml.automl.logger: 08-15 10:58:56] {2392} INFO -  at 39.2s,\testimator lgbm's best error=0.0014,\tbest estimator lgbm's best error=0.0014\n",
            "[flaml.automl.logger: 08-15 10:58:56] {2219} INFO - iteration 58, current learner lgbm\n",
            "[flaml.automl.logger: 08-15 10:58:57] {2392} INFO -  at 40.3s,\testimator lgbm's best error=0.0014,\tbest estimator lgbm's best error=0.0014\n",
            "[flaml.automl.logger: 08-15 10:58:57] {2219} INFO - iteration 59, current learner lgbm\n",
            "[flaml.automl.logger: 08-15 10:58:58] {2392} INFO -  at 40.8s,\testimator lgbm's best error=0.0014,\tbest estimator lgbm's best error=0.0014\n",
            "[flaml.automl.logger: 08-15 10:58:58] {2219} INFO - iteration 60, current learner lgbm\n",
            "[flaml.automl.logger: 08-15 10:58:59] {2392} INFO -  at 41.9s,\testimator lgbm's best error=0.0014,\tbest estimator lgbm's best error=0.0014\n",
            "[flaml.automl.logger: 08-15 10:58:59] {2219} INFO - iteration 61, current learner lgbm\n",
            "[flaml.automl.logger: 08-15 10:58:59] {2392} INFO -  at 42.2s,\testimator lgbm's best error=0.0014,\tbest estimator lgbm's best error=0.0014\n",
            "[flaml.automl.logger: 08-15 10:58:59] {2219} INFO - iteration 62, current learner lgbm\n",
            "[flaml.automl.logger: 08-15 10:59:01] {2392} INFO -  at 44.0s,\testimator lgbm's best error=0.0014,\tbest estimator lgbm's best error=0.0014\n",
            "[flaml.automl.logger: 08-15 10:59:01] {2219} INFO - iteration 63, current learner lgbm\n",
            "[flaml.automl.logger: 08-15 10:59:02] {2392} INFO -  at 45.3s,\testimator lgbm's best error=0.0014,\tbest estimator lgbm's best error=0.0014\n",
            "[flaml.automl.logger: 08-15 10:59:02] {2219} INFO - iteration 64, current learner lgbm\n",
            "[flaml.automl.logger: 08-15 10:59:04] {2392} INFO -  at 46.5s,\testimator lgbm's best error=0.0014,\tbest estimator lgbm's best error=0.0014\n",
            "[flaml.automl.logger: 08-15 10:59:04] {2219} INFO - iteration 65, current learner lgbm\n",
            "[flaml.automl.logger: 08-15 10:59:05] {2392} INFO -  at 47.5s,\testimator lgbm's best error=0.0014,\tbest estimator lgbm's best error=0.0014\n",
            "[flaml.automl.logger: 08-15 10:59:05] {2219} INFO - iteration 66, current learner lgbm\n",
            "[flaml.automl.logger: 08-15 10:59:06] {2392} INFO -  at 48.4s,\testimator lgbm's best error=0.0014,\tbest estimator lgbm's best error=0.0014\n",
            "[flaml.automl.logger: 08-15 10:59:06] {2219} INFO - iteration 67, current learner lgbm\n",
            "[flaml.automl.logger: 08-15 10:59:06] {2392} INFO -  at 48.7s,\testimator lgbm's best error=0.0014,\tbest estimator lgbm's best error=0.0014\n",
            "[flaml.automl.logger: 08-15 10:59:06] {2219} INFO - iteration 68, current learner lgbm\n",
            "[flaml.automl.logger: 08-15 10:59:07] {2392} INFO -  at 49.8s,\testimator lgbm's best error=0.0014,\tbest estimator lgbm's best error=0.0014\n",
            "[flaml.automl.logger: 08-15 10:59:07] {2219} INFO - iteration 69, current learner lgbm\n",
            "[flaml.automl.logger: 08-15 10:59:08] {2392} INFO -  at 51.1s,\testimator lgbm's best error=0.0014,\tbest estimator lgbm's best error=0.0014\n",
            "[flaml.automl.logger: 08-15 10:59:08] {2219} INFO - iteration 70, current learner lgbm\n",
            "[flaml.automl.logger: 08-15 10:59:09] {2392} INFO -  at 51.5s,\testimator lgbm's best error=0.0014,\tbest estimator lgbm's best error=0.0014\n",
            "[flaml.automl.logger: 08-15 10:59:09] {2219} INFO - iteration 71, current learner lgbm\n",
            "[flaml.automl.logger: 08-15 10:59:09] {2392} INFO -  at 51.9s,\testimator lgbm's best error=0.0014,\tbest estimator lgbm's best error=0.0014\n",
            "[flaml.automl.logger: 08-15 10:59:09] {2219} INFO - iteration 72, current learner lgbm\n",
            "[flaml.automl.logger: 08-15 10:59:10] {2392} INFO -  at 52.7s,\testimator lgbm's best error=0.0014,\tbest estimator lgbm's best error=0.0014\n",
            "[flaml.automl.logger: 08-15 10:59:10] {2219} INFO - iteration 73, current learner lgbm\n",
            "[flaml.automl.logger: 08-15 10:59:11] {2392} INFO -  at 53.8s,\testimator lgbm's best error=0.0014,\tbest estimator lgbm's best error=0.0014\n",
            "[flaml.automl.logger: 08-15 10:59:11] {2219} INFO - iteration 74, current learner lgbm\n",
            "[flaml.automl.logger: 08-15 10:59:11] {2392} INFO -  at 54.0s,\testimator lgbm's best error=0.0014,\tbest estimator lgbm's best error=0.0014\n",
            "[flaml.automl.logger: 08-15 10:59:11] {2219} INFO - iteration 75, current learner lgbm\n",
            "[flaml.automl.logger: 08-15 10:59:11] {2392} INFO -  at 54.2s,\testimator lgbm's best error=0.0014,\tbest estimator lgbm's best error=0.0014\n",
            "[flaml.automl.logger: 08-15 10:59:11] {2219} INFO - iteration 76, current learner lgbm\n",
            "[flaml.automl.logger: 08-15 10:59:12] {2392} INFO -  at 54.7s,\testimator lgbm's best error=0.0014,\tbest estimator lgbm's best error=0.0014\n",
            "[flaml.automl.logger: 08-15 10:59:12] {2219} INFO - iteration 77, current learner lgbm\n",
            "[flaml.automl.logger: 08-15 10:59:13] {2392} INFO -  at 55.6s,\testimator lgbm's best error=0.0014,\tbest estimator lgbm's best error=0.0014\n",
            "[flaml.automl.logger: 08-15 10:59:13] {2219} INFO - iteration 78, current learner lgbm\n",
            "[flaml.automl.logger: 08-15 10:59:13] {2392} INFO -  at 55.9s,\testimator lgbm's best error=0.0014,\tbest estimator lgbm's best error=0.0014\n",
            "[flaml.automl.logger: 08-15 10:59:13] {2219} INFO - iteration 79, current learner lgbm\n",
            "[flaml.automl.logger: 08-15 10:59:14] {2392} INFO -  at 56.6s,\testimator lgbm's best error=0.0014,\tbest estimator lgbm's best error=0.0014\n",
            "[flaml.automl.logger: 08-15 10:59:14] {2219} INFO - iteration 80, current learner lgbm\n",
            "[flaml.automl.logger: 08-15 10:59:14] {2392} INFO -  at 57.0s,\testimator lgbm's best error=0.0014,\tbest estimator lgbm's best error=0.0014\n",
            "[flaml.automl.logger: 08-15 10:59:14] {2219} INFO - iteration 81, current learner lgbm\n",
            "[flaml.automl.logger: 08-15 10:59:14] {2392} INFO -  at 57.3s,\testimator lgbm's best error=0.0014,\tbest estimator lgbm's best error=0.0014\n",
            "[flaml.automl.logger: 08-15 10:59:14] {2219} INFO - iteration 82, current learner lgbm\n",
            "[flaml.automl.logger: 08-15 10:59:15] {2392} INFO -  at 58.0s,\testimator lgbm's best error=0.0014,\tbest estimator lgbm's best error=0.0014\n",
            "[flaml.automl.logger: 08-15 10:59:15] {2219} INFO - iteration 83, current learner lgbm\n",
            "[flaml.automl.logger: 08-15 10:59:16] {2392} INFO -  at 58.4s,\testimator lgbm's best error=0.0014,\tbest estimator lgbm's best error=0.0014\n",
            "[flaml.automl.logger: 08-15 10:59:16] {2219} INFO - iteration 84, current learner lgbm\n",
            "[flaml.automl.logger: 08-15 10:59:16] {2392} INFO -  at 58.9s,\testimator lgbm's best error=0.0014,\tbest estimator lgbm's best error=0.0014\n",
            "[flaml.automl.logger: 08-15 10:59:16] {2219} INFO - iteration 85, current learner lgbm\n",
            "[flaml.automl.logger: 08-15 10:59:17] {2392} INFO -  at 60.4s,\testimator lgbm's best error=0.0014,\tbest estimator lgbm's best error=0.0014\n",
            "[flaml.automl.logger: 08-15 10:59:18] {2628} INFO - retrain lgbm for 0.9s\n",
            "[flaml.automl.logger: 08-15 10:59:18] {2631} INFO - retrained model: <flaml.automl.time_series.sklearn.SklearnWrapper object at 0x7cf232ec0520>\n",
            "[flaml.automl.logger: 08-15 10:59:18] {1931} INFO - fit succeeded\n",
            "[flaml.automl.logger: 08-15 10:59:18] {1932} INFO - Time taken to find the best model: 54.03767418861389\n"
          ]
        }
      ],
      "source": [
        "automl = AutoML()\n",
        "X_train = df_D.iloc[0:len(df_D)-30]\n",
        "X_train['T_filled'] = X_train['T_filled'].fillna(method='ffill')\n",
        "automl.fit(\n",
        "    dataframe=X_train,  # dataframe with the column of timestamp\n",
        "    label=\"T_filled\",  # value column name\n",
        "    period=1,  # time horizon to forecast\n",
        "    task=\"ts_forecast\",\n",
        "    time_budget=60,  # time budget in seconds\n",
        "    log_file_name=\"ts_forecast.log\",\n",
        "    eval_method=\"holdout\",\n",
        "    estimator_list=[\n",
        "        \"lgbm\"\n",
        "    ],\n",
        ")"
      ]
    },
    {
      "cell_type": "code",
      "execution_count": null,
      "metadata": {
        "id": "Q9AXL_afhCt_"
      },
      "outputs": [],
      "source": [
        "test_D = df_D.iloc[len(df_D)-300:]\n",
        "prediction = automl.predict(test_D)"
      ]
    },
    {
      "cell_type": "code",
      "execution_count": null,
      "metadata": {
        "colab": {
          "base_uri": "https://localhost:8080/",
          "height": 447
        },
        "id": "bCEwBPXbQ0VL",
        "outputId": "3dd0eac3-58c8-499a-bea8-436021c909ce"
      },
      "outputs": [
        {
          "data": {
            "text/plain": [
              "<matplotlib.legend.Legend at 0x7cf233cd1ae0>"
            ]
          },
          "execution_count": 24,
          "metadata": {},
          "output_type": "execute_result"
        },
        {
          "data": {
            "image/png": "[encoded data removed]",
            "text/plain": [
              "<Figure size 640x480 with 1 Axes>"
            ]
          },
          "metadata": {},
          "output_type": "display_data"
        }
      ],
      "source": [
        "# ploting\n",
        "plt.plot(test_D['T_filled'], label='True')\n",
        "plt.plot(prediction.loc[len(df_D)-300:len(df_D)-30], label='Prediction 1')\n",
        "plt.plot(prediction.loc[len(df_D)-30:], label='Prediction 2')\n",
        "plt.legend()"
      ]
    },
    {
      "cell_type": "markdown",
      "metadata": {
        "id": "QsCQl_rehhrp"
      },
      "source": [
        "the performances of the model is not good.\n",
        "\n",
        "Q: Why?\n",
        "\n",
        "1. Model are not well trained.\n",
        "2. Task are not suitable for the ML modeling\n",
        "3. Use more variables\n",
        "\n",
        "Try to modify some paramters of automl\n",
        "\n",
        "e.g., increasing the `time_budget`. Please try to increase the `time_budget` to 120 second and see what happen.\n",
        "\n",
        "\n",
        "Q: **Think about the difference in prediction 1 and prediction 2**"
      ]
    },
    {
      "cell_type": "markdown",
      "metadata": {
        "id": "gQBhW02IiRLQ"
      },
      "source": [
        "## 4 Use more variables to help modeling\n",
        "---"
      ]
    },
    {
      "cell_type": "markdown",
      "metadata": {
        "id": "BDycxGh8ioep"
      },
      "source": [
        "here we try to use more variables to help modeling\n",
        "\n",
        "- TMP: temperature\n",
        "- DEW: dew point\n",
        "- SLP: sea level pressure\n",
        "\n",
        "Q: [**what is dew point?**](https://en.wikipedia.org/wiki/Dew_point)\n",
        "\n",
        "A: The dew point of a given body of air is the temperature to which it must be cooled to become saturated with water vapor. It is very related to the humdity."
      ]
    },
    {
      "cell_type": "code",
      "execution_count": null,
      "metadata": {
        "id": "veU2WyK7RJx-"
      },
      "outputs": [],
      "source": [
        "# 1 define a function to get more variables\n",
        "def isd_data_process(var):\n",
        "  df[var] = df[var].replace(',','.', regex=True).astype(float) # transform the temperature to float\n",
        "  df[f'{var}_filled'] = df[var].apply(lambda x: x if x < 9999 else np.nan).interpolate(method='linear')\n",
        "\n",
        "# 2 select TMP, DEW, SLP\n",
        "for var in ['TMP', 'DEW', 'SLP']:\n",
        "  isd_data_process(var)"
      ]
    },
    {
      "cell_type": "code",
      "execution_count": null,
      "metadata": {
        "colab": {
          "base_uri": "https://localhost:8080/"
        },
        "id": "ifB_37_gUCHj",
        "outputId": "02c74107-2d4b-4f11-c38a-9f1cd586832e"
      },
      "outputs": [
        {
          "name": "stdout",
          "output_type": "stream",
          "text": [
            "[flaml.automl.logger: 08-15 10:59:37] {1680} INFO - task = ts_forecast\n",
            "[flaml.automl.logger: 08-15 10:59:37] {1691} INFO - Evaluation method: holdout\n",
            "[flaml.automl.logger: 08-15 10:59:37] {1789} INFO - Minimizing error metric: mape\n"
          ]
        },
        {
          "name": "stderr",
          "output_type": "stream",
          "text": [
            "INFO:flaml.automl.task.time_series_task:Couldn't import Prophet, skipping\n"
          ]
        },
        {
          "name": "stdout",
          "output_type": "stream",
          "text": [
            "[flaml.automl.logger: 08-15 10:59:37] {1901} INFO - List of ML learners in AutoML Run: ['lgbm']\n",
            "[flaml.automl.logger: 08-15 10:59:37] {2219} INFO - iteration 0, current learner lgbm\n",
            "[flaml.automl.logger: 08-15 10:59:37] {2345} INFO - Estimated sufficient time budget=2883s. Estimated necessary time budget=3s.\n",
            "[flaml.automl.logger: 08-15 10:59:37] {2392} INFO -  at 0.3s,\testimator lgbm's best error=0.7651,\tbest estimator lgbm's best error=0.7651\n",
            "[flaml.automl.logger: 08-15 10:59:37] {2219} INFO - iteration 1, current learner lgbm\n",
            "[flaml.automl.logger: 08-15 10:59:37] {2392} INFO -  at 0.8s,\testimator lgbm's best error=0.7651,\tbest estimator lgbm's best error=0.7651\n",
            "[flaml.automl.logger: 08-15 10:59:37] {2219} INFO - iteration 2, current learner lgbm\n",
            "[flaml.automl.logger: 08-15 10:59:38] {2392} INFO -  at 0.9s,\testimator lgbm's best error=0.4495,\tbest estimator lgbm's best error=0.4495\n",
            "[flaml.automl.logger: 08-15 10:59:38] {2219} INFO - iteration 3, current learner lgbm\n",
            "[flaml.automl.logger: 08-15 10:59:38] {2392} INFO -  at 1.1s,\testimator lgbm's best error=0.1936,\tbest estimator lgbm's best error=0.1936\n",
            "[flaml.automl.logger: 08-15 10:59:38] {2219} INFO - iteration 4, current learner lgbm\n",
            "[flaml.automl.logger: 08-15 10:59:38] {2392} INFO -  at 1.4s,\testimator lgbm's best error=0.1936,\tbest estimator lgbm's best error=0.1936\n",
            "[flaml.automl.logger: 08-15 10:59:38] {2219} INFO - iteration 5, current learner lgbm\n",
            "[flaml.automl.logger: 08-15 10:59:38] {2392} INFO -  at 1.6s,\testimator lgbm's best error=0.1936,\tbest estimator lgbm's best error=0.1936\n",
            "[flaml.automl.logger: 08-15 10:59:38] {2219} INFO - iteration 6, current learner lgbm\n",
            "[flaml.automl.logger: 08-15 10:59:39] {2392} INFO -  at 2.0s,\testimator lgbm's best error=0.1725,\tbest estimator lgbm's best error=0.1725\n",
            "[flaml.automl.logger: 08-15 10:59:39] {2219} INFO - iteration 7, current learner lgbm\n",
            "[flaml.automl.logger: 08-15 10:59:39] {2392} INFO -  at 2.7s,\testimator lgbm's best error=0.1451,\tbest estimator lgbm's best error=0.1451\n",
            "[flaml.automl.logger: 08-15 10:59:39] {2219} INFO - iteration 8, current learner lgbm\n",
            "[flaml.automl.logger: 08-15 10:59:40] {2392} INFO -  at 3.2s,\testimator lgbm's best error=0.1451,\tbest estimator lgbm's best error=0.1451\n",
            "[flaml.automl.logger: 08-15 10:59:40] {2219} INFO - iteration 9, current learner lgbm\n",
            "[flaml.automl.logger: 08-15 10:59:41] {2392} INFO -  at 3.9s,\testimator lgbm's best error=0.0794,\tbest estimator lgbm's best error=0.0794\n",
            "[flaml.automl.logger: 08-15 10:59:41] {2219} INFO - iteration 10, current learner lgbm\n",
            "[flaml.automl.logger: 08-15 10:59:41] {2392} INFO -  at 4.8s,\testimator lgbm's best error=0.0794,\tbest estimator lgbm's best error=0.0794\n",
            "[flaml.automl.logger: 08-15 10:59:41] {2219} INFO - iteration 11, current learner lgbm\n",
            "[flaml.automl.logger: 08-15 10:59:45] {2392} INFO -  at 8.2s,\testimator lgbm's best error=0.0794,\tbest estimator lgbm's best error=0.0794\n",
            "[flaml.automl.logger: 08-15 10:59:45] {2219} INFO - iteration 12, current learner lgbm\n",
            "[flaml.automl.logger: 08-15 10:59:45] {2392} INFO -  at 8.4s,\testimator lgbm's best error=0.0794,\tbest estimator lgbm's best error=0.0794\n",
            "[flaml.automl.logger: 08-15 10:59:45] {2219} INFO - iteration 13, current learner lgbm\n",
            "[flaml.automl.logger: 08-15 10:59:46] {2392} INFO -  at 9.2s,\testimator lgbm's best error=0.0794,\tbest estimator lgbm's best error=0.0794\n",
            "[flaml.automl.logger: 08-15 10:59:46] {2219} INFO - iteration 14, current learner lgbm\n",
            "[flaml.automl.logger: 08-15 10:59:47] {2392} INFO -  at 10.1s,\testimator lgbm's best error=0.0794,\tbest estimator lgbm's best error=0.0794\n",
            "[flaml.automl.logger: 08-15 10:59:47] {2219} INFO - iteration 15, current learner lgbm\n",
            "[flaml.automl.logger: 08-15 10:59:48] {2392} INFO -  at 11.2s,\testimator lgbm's best error=0.0731,\tbest estimator lgbm's best error=0.0731\n",
            "[flaml.automl.logger: 08-15 10:59:48] {2219} INFO - iteration 16, current learner lgbm\n",
            "[flaml.automl.logger: 08-15 10:59:48] {2392} INFO -  at 11.9s,\testimator lgbm's best error=0.0731,\tbest estimator lgbm's best error=0.0731\n",
            "[flaml.automl.logger: 08-15 10:59:48] {2219} INFO - iteration 17, current learner lgbm\n",
            "[flaml.automl.logger: 08-15 10:59:51] {2392} INFO -  at 14.4s,\testimator lgbm's best error=0.0731,\tbest estimator lgbm's best error=0.0731\n",
            "[flaml.automl.logger: 08-15 10:59:51] {2219} INFO - iteration 18, current learner lgbm\n",
            "[flaml.automl.logger: 08-15 10:59:52] {2392} INFO -  at 15.2s,\testimator lgbm's best error=0.0187,\tbest estimator lgbm's best error=0.0187\n",
            "[flaml.automl.logger: 08-15 10:59:52] {2219} INFO - iteration 19, current learner lgbm\n",
            "[flaml.automl.logger: 08-15 10:59:52] {2392} INFO -  at 15.5s,\testimator lgbm's best error=0.0187,\tbest estimator lgbm's best error=0.0187\n",
            "[flaml.automl.logger: 08-15 10:59:52] {2219} INFO - iteration 20, current learner lgbm\n",
            "[flaml.automl.logger: 08-15 10:59:57] {2392} INFO -  at 20.0s,\testimator lgbm's best error=0.0187,\tbest estimator lgbm's best error=0.0187\n",
            "[flaml.automl.logger: 08-15 10:59:57] {2219} INFO - iteration 21, current learner lgbm\n",
            "[flaml.automl.logger: 08-15 10:59:58] {2392} INFO -  at 21.7s,\testimator lgbm's best error=0.0187,\tbest estimator lgbm's best error=0.0187\n",
            "[flaml.automl.logger: 08-15 10:59:58] {2219} INFO - iteration 22, current learner lgbm\n",
            "[flaml.automl.logger: 08-15 11:00:00] {2392} INFO -  at 23.6s,\testimator lgbm's best error=0.0187,\tbest estimator lgbm's best error=0.0187\n",
            "[flaml.automl.logger: 08-15 11:00:00] {2219} INFO - iteration 23, current learner lgbm\n",
            "[flaml.automl.logger: 08-15 11:00:00] {2392} INFO -  at 23.8s,\testimator lgbm's best error=0.0187,\tbest estimator lgbm's best error=0.0187\n",
            "[flaml.automl.logger: 08-15 11:00:00] {2219} INFO - iteration 24, current learner lgbm\n",
            "[flaml.automl.logger: 08-15 11:00:03] {2392} INFO -  at 26.3s,\testimator lgbm's best error=0.0187,\tbest estimator lgbm's best error=0.0187\n",
            "[flaml.automl.logger: 08-15 11:00:03] {2219} INFO - iteration 25, current learner lgbm\n",
            "[flaml.automl.logger: 08-15 11:00:06] {2392} INFO -  at 29.1s,\testimator lgbm's best error=0.0187,\tbest estimator lgbm's best error=0.0187\n",
            "[flaml.automl.logger: 08-15 11:00:06] {2219} INFO - iteration 26, current learner lgbm\n",
            "[flaml.automl.logger: 08-15 11:00:06] {2392} INFO -  at 29.3s,\testimator lgbm's best error=0.0187,\tbest estimator lgbm's best error=0.0187\n",
            "[flaml.automl.logger: 08-15 11:00:06] {2219} INFO - iteration 27, current learner lgbm\n",
            "[flaml.automl.logger: 08-15 11:00:06] {2392} INFO -  at 29.8s,\testimator lgbm's best error=0.0187,\tbest estimator lgbm's best error=0.0187\n",
            "[flaml.automl.logger: 08-15 11:00:06] {2219} INFO - iteration 28, current learner lgbm\n",
            "[flaml.automl.logger: 08-15 11:00:07] {2392} INFO -  at 30.8s,\testimator lgbm's best error=0.0187,\tbest estimator lgbm's best error=0.0187\n",
            "[flaml.automl.logger: 08-15 11:00:07] {2219} INFO - iteration 29, current learner lgbm\n",
            "[flaml.automl.logger: 08-15 11:00:08] {2392} INFO -  at 31.1s,\testimator lgbm's best error=0.0044,\tbest estimator lgbm's best error=0.0044\n",
            "[flaml.automl.logger: 08-15 11:00:08] {2219} INFO - iteration 30, current learner lgbm\n",
            "[flaml.automl.logger: 08-15 11:00:09] {2392} INFO -  at 32.0s,\testimator lgbm's best error=0.0044,\tbest estimator lgbm's best error=0.0044\n",
            "[flaml.automl.logger: 08-15 11:00:09] {2219} INFO - iteration 31, current learner lgbm\n",
            "[flaml.automl.logger: 08-15 11:00:09] {2392} INFO -  at 32.4s,\testimator lgbm's best error=0.0044,\tbest estimator lgbm's best error=0.0044\n",
            "[flaml.automl.logger: 08-15 11:00:09] {2219} INFO - iteration 32, current learner lgbm\n",
            "[flaml.automl.logger: 08-15 11:00:13] {2392} INFO -  at 36.2s,\testimator lgbm's best error=0.0044,\tbest estimator lgbm's best error=0.0044\n",
            "[flaml.automl.logger: 08-15 11:00:13] {2219} INFO - iteration 33, current learner lgbm\n",
            "[flaml.automl.logger: 08-15 11:00:14] {2392} INFO -  at 37.1s,\testimator lgbm's best error=0.0044,\tbest estimator lgbm's best error=0.0044\n",
            "[flaml.automl.logger: 08-15 11:00:14] {2219} INFO - iteration 34, current learner lgbm\n",
            "[flaml.automl.logger: 08-15 11:00:14] {2392} INFO -  at 37.8s,\testimator lgbm's best error=0.0044,\tbest estimator lgbm's best error=0.0044\n",
            "[flaml.automl.logger: 08-15 11:00:14] {2219} INFO - iteration 35, current learner lgbm\n",
            "[flaml.automl.logger: 08-15 11:00:15] {2392} INFO -  at 38.6s,\testimator lgbm's best error=0.0044,\tbest estimator lgbm's best error=0.0044\n",
            "[flaml.automl.logger: 08-15 11:00:15] {2219} INFO - iteration 36, current learner lgbm\n",
            "[flaml.automl.logger: 08-15 11:00:15] {2392} INFO -  at 38.8s,\testimator lgbm's best error=0.0044,\tbest estimator lgbm's best error=0.0044\n",
            "[flaml.automl.logger: 08-15 11:00:15] {2219} INFO - iteration 37, current learner lgbm\n",
            "[flaml.automl.logger: 08-15 11:00:16] {2392} INFO -  at 39.3s,\testimator lgbm's best error=0.0044,\tbest estimator lgbm's best error=0.0044\n",
            "[flaml.automl.logger: 08-15 11:00:16] {2219} INFO - iteration 38, current learner lgbm\n",
            "[flaml.automl.logger: 08-15 11:00:17] {2392} INFO -  at 39.9s,\testimator lgbm's best error=0.0044,\tbest estimator lgbm's best error=0.0044\n",
            "[flaml.automl.logger: 08-15 11:00:17] {2219} INFO - iteration 39, current learner lgbm\n",
            "[flaml.automl.logger: 08-15 11:00:17] {2392} INFO -  at 40.7s,\testimator lgbm's best error=0.0044,\tbest estimator lgbm's best error=0.0044\n",
            "[flaml.automl.logger: 08-15 11:00:17] {2219} INFO - iteration 40, current learner lgbm\n",
            "[flaml.automl.logger: 08-15 11:00:18] {2392} INFO -  at 41.2s,\testimator lgbm's best error=0.0044,\tbest estimator lgbm's best error=0.0044\n",
            "[flaml.automl.logger: 08-15 11:00:18] {2219} INFO - iteration 41, current learner lgbm\n",
            "[flaml.automl.logger: 08-15 11:00:19] {2392} INFO -  at 42.1s,\testimator lgbm's best error=0.0044,\tbest estimator lgbm's best error=0.0044\n",
            "[flaml.automl.logger: 08-15 11:00:19] {2219} INFO - iteration 42, current learner lgbm\n",
            "[flaml.automl.logger: 08-15 11:00:19] {2392} INFO -  at 42.3s,\testimator lgbm's best error=0.0044,\tbest estimator lgbm's best error=0.0044\n",
            "[flaml.automl.logger: 08-15 11:00:19] {2219} INFO - iteration 43, current learner lgbm\n",
            "[flaml.automl.logger: 08-15 11:00:19] {2392} INFO -  at 42.8s,\testimator lgbm's best error=0.0044,\tbest estimator lgbm's best error=0.0044\n",
            "[flaml.automl.logger: 08-15 11:00:19] {2219} INFO - iteration 44, current learner lgbm\n",
            "[flaml.automl.logger: 08-15 11:00:20] {2392} INFO -  at 43.5s,\testimator lgbm's best error=0.0044,\tbest estimator lgbm's best error=0.0044\n",
            "[flaml.automl.logger: 08-15 11:00:20] {2219} INFO - iteration 45, current learner lgbm\n",
            "[flaml.automl.logger: 08-15 11:00:21] {2392} INFO -  at 44.6s,\testimator lgbm's best error=0.0044,\tbest estimator lgbm's best error=0.0044\n",
            "[flaml.automl.logger: 08-15 11:00:21] {2219} INFO - iteration 46, current learner lgbm\n",
            "[flaml.automl.logger: 08-15 11:00:22] {2392} INFO -  at 45.0s,\testimator lgbm's best error=0.0044,\tbest estimator lgbm's best error=0.0044\n",
            "[flaml.automl.logger: 08-15 11:00:22] {2219} INFO - iteration 47, current learner lgbm\n",
            "[flaml.automl.logger: 08-15 11:00:22] {2392} INFO -  at 45.4s,\testimator lgbm's best error=0.0044,\tbest estimator lgbm's best error=0.0044\n",
            "[flaml.automl.logger: 08-15 11:00:22] {2219} INFO - iteration 48, current learner lgbm\n",
            "[flaml.automl.logger: 08-15 11:00:23] {2392} INFO -  at 45.9s,\testimator lgbm's best error=0.0044,\tbest estimator lgbm's best error=0.0044\n",
            "[flaml.automl.logger: 08-15 11:00:23] {2219} INFO - iteration 49, current learner lgbm\n",
            "[flaml.automl.logger: 08-15 11:00:23] {2392} INFO -  at 46.7s,\testimator lgbm's best error=0.0044,\tbest estimator lgbm's best error=0.0044\n",
            "[flaml.automl.logger: 08-15 11:00:23] {2219} INFO - iteration 50, current learner lgbm\n",
            "[flaml.automl.logger: 08-15 11:00:25] {2392} INFO -  at 48.1s,\testimator lgbm's best error=0.0044,\tbest estimator lgbm's best error=0.0044\n",
            "[flaml.automl.logger: 08-15 11:00:25] {2219} INFO - iteration 51, current learner lgbm\n",
            "[flaml.automl.logger: 08-15 11:00:25] {2392} INFO -  at 48.4s,\testimator lgbm's best error=0.0044,\tbest estimator lgbm's best error=0.0044\n",
            "[flaml.automl.logger: 08-15 11:00:25] {2219} INFO - iteration 52, current learner lgbm\n",
            "[flaml.automl.logger: 08-15 11:00:31] {2392} INFO -  at 53.9s,\testimator lgbm's best error=0.0044,\tbest estimator lgbm's best error=0.0044\n",
            "[flaml.automl.logger: 08-15 11:00:31] {2219} INFO - iteration 53, current learner lgbm\n",
            "[flaml.automl.logger: 08-15 11:00:34] {2392} INFO -  at 57.9s,\testimator lgbm's best error=0.0044,\tbest estimator lgbm's best error=0.0044\n",
            "[flaml.automl.logger: 08-15 11:00:34] {2219} INFO - iteration 54, current learner lgbm\n",
            "[flaml.automl.logger: 08-15 11:00:35] {2392} INFO -  at 58.1s,\testimator lgbm's best error=0.0044,\tbest estimator lgbm's best error=0.0044\n",
            "[flaml.automl.logger: 08-15 11:00:35] {2219} INFO - iteration 55, current learner lgbm\n",
            "[flaml.automl.logger: 08-15 11:00:36] {2392} INFO -  at 59.6s,\testimator lgbm's best error=0.0044,\tbest estimator lgbm's best error=0.0044\n",
            "[flaml.automl.logger: 08-15 11:00:36] {2219} INFO - iteration 56, current learner lgbm\n",
            "[flaml.automl.logger: 08-15 11:00:37] {2392} INFO -  at 60.0s,\testimator lgbm's best error=0.0044,\tbest estimator lgbm's best error=0.0044\n",
            "[flaml.automl.logger: 08-15 11:00:37] {2628} INFO - retrain lgbm for 0.3s\n",
            "[flaml.automl.logger: 08-15 11:00:37] {2631} INFO - retrained model: <flaml.automl.time_series.sklearn.SklearnWrapper object at 0x7cf233bd7e20>\n",
            "[flaml.automl.logger: 08-15 11:00:37] {1931} INFO - fit succeeded\n",
            "[flaml.automl.logger: 08-15 11:00:37] {1932} INFO - Time taken to find the best model: 31.068840265274048\n"
          ]
        }
      ],
      "source": [
        "df_md = df[['TMP_filled','DEW_filled','SLP_filled']].resample('D').mean().reset_index().fillna(method='ffill') # fill the na using ffill\n",
        "automl = AutoML()\n",
        "X_train = df_md.iloc[0:len(df_md)-30]\n",
        "automl.fit(\n",
        "    dataframe=X_train,  # dataframe with the column of timestamp\n",
        "    label=\"TMP_filled\",  # value column name\n",
        "    period=1,  # time horizon to forecast\n",
        "    task=\"ts_forecast\",\n",
        "    time_budget=60,  # time budget in seconds\n",
        "    log_file_name=\"ts_forecast.log\",\n",
        "    eval_method=\"holdout\",\n",
        "    estimator_list=[\n",
        "        \"lgbm\"\n",
        "    ],\n",
        ")"
      ]
    },
    {
      "cell_type": "code",
      "execution_count": null,
      "metadata": {
        "id": "c2VDn5vYjeG5"
      },
      "outputs": [],
      "source": [
        "test_md = df_md.iloc[len(df_md)-300:]\n",
        "prediction = automl.predict(test_md)"
      ]
    },
    {
      "cell_type": "code",
      "execution_count": null,
      "metadata": {
        "colab": {
          "base_uri": "https://localhost:8080/",
          "height": 447
        },
        "id": "za6RxerRUXOH",
        "outputId": "664ec8fd-8d55-47eb-9091-76168db93f06"
      },
      "outputs": [
        {
          "data": {
            "text/plain": [
              "<matplotlib.legend.Legend at 0x7cf23326c1f0>"
            ]
          },
          "execution_count": 29,
          "metadata": {},
          "output_type": "execute_result"
        },
        {
          "data": {
            "image/png": "[encoded data removed]",
            "text/plain": [
              "<Figure size 640x480 with 1 Axes>"
            ]
          },
          "metadata": {},
          "output_type": "display_data"
        }
      ],
      "source": [
        "# ploting\n",
        "plt.plot(test_md['TMP_filled'], label='True')\n",
        "plt.plot(prediction.loc[len(df_md)-300:len(df_md)-30], label='Prediction 1')\n",
        "plt.plot(prediction.loc[len(df_md)-30:], label='Prediction 2')\n",
        "plt.legend()"
      ]
    },
    {
      "cell_type": "markdown",
      "metadata": {
        "id": "VwktAIoArJai"
      },
      "source": [
        "**Additional Questions:**\n",
        "\n",
        "Q: How does time horizon to forecast (the parameter period) will affect the model performance?"
      ]
    },
    {
      "cell_type": "markdown",
      "metadata": {
        "id": "NLuNvUCcA7Je"
      },
      "source": [
        "### Task:\n",
        "---\n",
        "\n",
        "1. Find the XIAOSHAN airport station (China, Hangzhou) data from 2010 to 2023, and fill the missing value if have.\n",
        "\n",
        "2. Train two time-series models\n",
        "\n",
        "    1. montly temperature prediction (1-month period)\n",
        "    \n",
        "    2. daily temperature prediction (3-day periods)\n",
        "\n",
        "    3. try to use different `eval_method` methods.\n",
        "\n",
        "3. Predict the 2024 monthly temperature and compare the result with the true value.\n",
        "\n",
        "4. Plot and calculate the MAE.\n",
        "\n",
        "*optional: try to train model use Kelvin and Celsius"
      ]
    }
  ],
  "metadata": {
    "colab": {
      "provenance": []
    },
    "kernelspec": {
      "display_name": "pymet",
      "language": "python",
      "name": "python3"
    },
    "language_info": {
      "codemirror_mode": {
        "name": "ipython",
        "version": 3
      },
      "file_extension": ".py",
      "mimetype": "text/x-python",
      "name": "python",
      "nbconvert_exporter": "python",
      "pygments_lexer": "ipython3",
      "version": "3.11.8"
    }
  },
  "nbformat": 4,
  "nbformat_minor": 0
}
