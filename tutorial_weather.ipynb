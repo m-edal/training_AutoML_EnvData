{
  "cells": [
    {
      "cell_type": "markdown",
      "metadata": {
        "id": "H-6iYW1CMTFK"
      },
      "source": [
        "<a href=\"https://colab.research.google.com/github/m-edal/training_AutoML_EnvData/blob/main/tutorial_weather.ipynb\" target=\"_parent\"><img src=\"https://colab.research.google.com/assets/colab-badge.svg\" alt=\"Open In Colab\"/></a>"
      ]
    },
    {
      "cell_type": "markdown",
      "metadata": {
        "id": "HnC8JSBUMlqm"
      },
      "source": [
        "prepare the Python environment"
      ]
    },
    {
      "cell_type": "code",
      "execution_count": null,
      "metadata": {
        "id": "EGQHFINAMpRR"
      },
      "outputs": [],
      "source": [
        "!pip install obswx flaml matplotlib"
      ]
    },
    {
      "cell_type": "markdown",
      "metadata": {
        "id": "NK1bk15AMTFL"
      },
      "source": [
        "# Tutorial of AutoML for weather data\n",
        "---\n",
        "\n",
        "Junjie Yu, Zhonghua Zheng, David Topping\n",
        "\n",
        "The University of Mancherster, Manchester, UK\n",
        "\n",
        "Language: Python\n",
        "\n",
        "Packages: obswx, matplotlib, flaml, numpy, pandas, sklearn"
      ]
    },
    {
      "cell_type": "markdown",
      "metadata": {
        "id": "FeVNTLQwMTFL"
      },
      "source": [
        "- learn to process time series data\n",
        "- learn to use the flaml library"
      ]
    },
    {
      "cell_type": "markdown",
      "metadata": {
        "id": "GApArkWFrJaf"
      },
      "source": [
        "Q: What is the time serials data?\n",
        "\n",
        "A: Time series data is a sequence of data points collected at constant time intervals.\n",
        "It is used in various fields, such as finance, weather forecasting, and signal processing.\n",
        "Time series data can be analyzed to identify patterns, trends, and anomalies."
      ]
    },
    {
      "cell_type": "markdown",
      "metadata": {
        "id": "KlAu0hUbOr8I"
      },
      "source": [
        "## 0 import the libraries\n",
        "---"
      ]
    },
    {
      "cell_type": "code",
      "execution_count": null,
      "metadata": {
        "id": "VQqvA6U6M7ql"
      },
      "outputs": [],
      "source": [
        "import warnings\n",
        "warnings.filterwarnings('ignore')\n",
        "\n",
        "from obswx import *\n",
        "import numpy as np\n",
        "from flaml import AutoML\n",
        "import matplotlib.pyplot as plt\n",
        "import numpy as np"
      ]
    },
    {
      "cell_type": "markdown",
      "metadata": {
        "id": "M_Ma5Hl0Oz0x"
      },
      "source": [
        "## 1 download the data of the interested weather station\n",
        "---\n",
        "here we use `obswx` package to load the data.\n",
        "\n",
        "Package homepage: https://envdes.github.io/obswx/index.html"
      ]
    },
    {
      "cell_type": "markdown",
      "metadata": {
        "id": "jrb_ET0UP4f1"
      },
      "source": [
        "### 1.1 download data from `obswx`"
      ]
    },
    {
      "cell_type": "markdown",
      "metadata": {
        "id": "-2OLzuWvQGDp"
      },
      "source": [
        "load the metadata.\n",
        "\n",
        "Q: what is metadata?\n",
        "\n",
        "A: The data about data."
      ]
    },
    {
      "cell_type": "code",
      "execution_count": null,
      "metadata": {
        "id": "dm8LMkZzMTFM"
      },
      "outputs": [],
      "source": [
        "met = obswx(source='ISD')\n",
        "# Load the metadata\n",
        "met.get_meta(load=True).head() #use .head() to print 5 samples in the head of the data\n",
        "# please check https://www.ncei.noaa.gov/products/land-based-station/integrated-surface-database\n",
        "# to get more information about the table."
      ]
    },
    {
      "cell_type": "markdown",
      "metadata": {
        "id": "Qon8_diUhKOm"
      },
      "source": [
        "here we can select the weater **station** by combining USAF and WBAN\n",
        "\n",
        "03334099999: Manchester airport.\n",
        "\n",
        "Here to help select station: https://envdes.github.io/obswx/isd_map"
      ]
    },
    {
      "cell_type": "code",
      "execution_count": null,
      "metadata": {
        "id": "Sl_zzbSWMTFM"
      },
      "outputs": [],
      "source": [
        "df = met.get_data(year=2023, station= \"03334099999\", isd_source=\"AWS\")\n",
        "df['TMP'] = df['TMP'].replace(',','.', regex=True).astype(float) # transform the temperature to float\n",
        "df.index = pd.to_datetime(df['DATE']) # set the date as index"
      ]
    },
    {
      "cell_type": "code",
      "execution_count": null,
      "metadata": {
        "collapsed": true,
        "id": "lFoyTGtUMTFM"
      },
      "outputs": [],
      "source": [
        "df.head()"
      ]
    },
    {
      "cell_type": "markdown",
      "metadata": {
        "id": "dxl4dd_ZrJag"
      },
      "source": [
        "Q: What format is time data saved in?\n",
        "\n",
        "A: The time data is saved in the format of datetime64[ns].\n",
        "\n",
        "Q: How can I access the time data?\n",
        "\n",
        "A: You can access the time data by using the index of the dataframe.\n",
        "\n",
        "Q: Are there any types of time data that can be used?\n",
        "\n",
        "A: timestamp, datetime (Python object), and datetime64[ns] (numpy object). Please refer to the following link for more information: https://pandas.pydata.org/pandas-docs/stable/user_guide/timeseries.html"
      ]
    },
    {
      "cell_type": "markdown",
      "metadata": {
        "id": "RO6jxU0tN4Cn"
      },
      "source": [
        "### 1.2 check the temperature of the raw data\n",
        "\n",
        "TMP - Mean temperature (.1 Fahrenheit)\n",
        "\n",
        "here we will not change the unit of temperature (Fahrenheit).\n",
        "\n",
        "Q: How to present temperature? Which type of temperature is the standard?\n",
        "\n",
        "A: Celsius (°C), Fahrenheit (°F), Kelvin (K). Kelvin is the standard unit in the International System of Units. Kelvin is an absolute temperature scale where 0 K is absolute zero, equivalent to -273.15°C. Celsius is commonly used in daily life, where Water freezes at 0°C and boils at 100°C (under standard atmospheric pressure). Fahrenheit is popular in the United States\n",
        "\n",
        "Fahrenheit = Celsius * 5/9 + 32\n",
        "\n",
        "Kelvin = Celsius + 273.15"
      ]
    },
    {
      "cell_type": "code",
      "execution_count": null,
      "metadata": {
        "collapsed": true,
        "id": "ij_bItRsMTFN"
      },
      "outputs": [],
      "source": [
        "fig, ax = plt.subplots(1,1, figsize=(10,3))\n",
        "df['TMP'].plot(ax=ax) # check the data\n",
        "ax.set_xlabel('Date')\n",
        "ax.set_ylabel('Temperature (F)')\n",
        "ax.set_title('Temperature of Manchester Airport')\n",
        "fig.show()"
      ]
    },
    {
      "cell_type": "markdown",
      "metadata": {
        "id": "_HxhIHXEhs0E"
      },
      "source": [
        "we can see here are some **missing data** that are replaced by 9999.99"
      ]
    },
    {
      "cell_type": "markdown",
      "metadata": {
        "id": "LDly0mhwMTFN"
      },
      "source": [
        "### 1.3 How to deal with the missing data?\n",
        "\n",
        "1. interpolate\n",
        "    - ref: https://pandas.pydata.org/pandas-docs/stable/reference/api/pandas.DataFrame.interpolate.html\n",
        "2. drop it\n",
        "3. fill it with a constant value\n",
        "    - mean\n",
        "    - median\n",
        "    - last observation\n",
        "    - next observation\n",
        "4. others (e.g. using a model to predict the missing value)"
      ]
    },
    {
      "cell_type": "code",
      "execution_count": null,
      "metadata": {
        "id": "ZzbnAnUFU7xQ"
      },
      "outputs": [],
      "source": [
        "# 1 find the missing value index\n",
        "missing_value_index = df.query('TMP >= 9999').index\n",
        "missing_value_index"
      ]
    },
    {
      "cell_type": "code",
      "execution_count": null,
      "metadata": {
        "id": "cW5Vo5MEU_mL"
      },
      "outputs": [],
      "source": [
        "# 2 check the missing values\n",
        "df.loc[missing_value_index]['TMP']"
      ]
    },
    {
      "cell_type": "code",
      "execution_count": null,
      "metadata": {
        "id": "UyEkR9-qMTFN"
      },
      "outputs": [],
      "source": [
        "# 3 fill the missing values using interpolation of linear method\n",
        "df['T_filled'] = df['TMP'].apply(lambda x: x if x < 9999 else np.nan).interpolate(method='linear')"
      ]
    },
    {
      "cell_type": "code",
      "execution_count": null,
      "metadata": {
        "id": "lb823KxZZSg6"
      },
      "outputs": [],
      "source": [
        "# 4 print the values\n",
        "print(df['T_filled'].loc[missing_value_index])"
      ]
    },
    {
      "cell_type": "code",
      "execution_count": null,
      "metadata": {
        "id": "Acq4ZSSGMTFN"
      },
      "outputs": [],
      "source": [
        "# 5 plotting\n",
        "fig, ax = plt.subplots(1,1, figsize=(10,3))\n",
        "df['T_filled'].plot(ax=ax)\n",
        "ax.set_xlabel('Date')\n",
        "ax.set_ylabel('Temperature (F)')\n",
        "ax.set_title('Temperature of Manchester Airport')\n",
        "fig.show()"
      ]
    },
    {
      "cell_type": "markdown",
      "metadata": {
        "id": "C8_i5PIYRvgX"
      },
      "source": [
        "### 1.4 Try other station and fill the missing values with different methods and compare the different among them.\n",
        "\n",
        "\n",
        "1. select station: https://envdes.github.io/obswx/isd_map\n",
        "\n",
        "2. get 2023 **LEEK THORNCLIFFE** station data\n",
        "\n",
        "```\n",
        "    USAF: \"033300\"\n",
        "    WBAN: \"99999\"\n",
        "    Station Name: \"LEEK THORNCLIFFE\"\n",
        "    Country: \"UK\"\n",
        "    State: \"\"\n",
        "    ICAO: \"\"\n",
        "    Latitude: 53.133\n",
        "    Longitude: -1.983\n",
        "    Elevation: 299\n",
        "    Begin: \"20040706\"\n",
        "    End: \"20240811\"\n",
        "```\n",
        "\n",
        "3. fill the missing value using different methods (linear, nearest, polynomial (order2), last observation, and the next observation), and compare the filled value with mean, median."
      ]
    },
    {
      "cell_type": "code",
      "execution_count": null,
      "metadata": {
        "id": "fP2FxvATScuZ"
      },
      "outputs": [],
      "source": [
        "# try you code in here and the plot is like below"
      ]
    },
    {
      "cell_type": "markdown",
      "metadata": {
        "id": "NrASSi-SUU4j"
      },
      "source": [
        "use the index to locate the data, and fill the missing value using with different methods"
      ]
    },
    {
      "cell_type": "code",
      "execution_count": null,
      "metadata": {
        "id": "ukUslYUVWXMo"
      },
      "outputs": [],
      "source": [
        "#example code here:"
      ]
    },
    {
      "cell_type": "markdown",
      "metadata": {
        "id": "eAPY1PF2Qky6"
      },
      "source": [
        "## 2 train a time serial model using automl\n",
        "---"
      ]
    },
    {
      "cell_type": "markdown",
      "metadata": {
        "id": "LeXqpzCzaY6T"
      },
      "source": [
        "### 2.1 download 12 years data"
      ]
    },
    {
      "cell_type": "code",
      "execution_count": null,
      "metadata": {
        "collapsed": true,
        "id": "Stc0ShgAN2zA"
      },
      "outputs": [],
      "source": [
        "df = pd.DataFrame()\n",
        "for year in range(2010,2023): # 2012--2022 year\n",
        "    df_ = met.get_data(year=year, station= \"03334099999\", isd_source=\"AWS\")\n",
        "    df = pd.concat([df, df_])\n",
        "\n",
        "df['TMP'] = df['TMP'].replace(',','.', regex=True).astype(float) # transform the temperature to float\n",
        "df.index = pd.to_datetime(df['DATE'])\n",
        "df['T_filled'] = df['TMP'].apply(lambda x: x if x < 9999 else np.nan).interpolate(method='linear') # fill the missing values"
      ]
    },
    {
      "cell_type": "code",
      "execution_count": null,
      "metadata": {
        "collapsed": true,
        "id": "Z2juQqoqOMSv"
      },
      "outputs": [],
      "source": [
        "# plotting\n",
        "fig, ax = plt.subplots(1,1, figsize=(10,3))\n",
        "df['T_filled'].plot(ax=ax)\n",
        "ax.set_xlabel('Date')\n",
        "ax.set_ylabel('Temperature (F)')\n",
        "ax.set_title('Temperature of Manchester Airport')\n",
        "fig.show()"
      ]
    },
    {
      "cell_type": "markdown",
      "metadata": {
        "id": "zZPv2x9laov_"
      },
      "source": [
        "### 2.3 resample the data to monthly data"
      ]
    },
    {
      "cell_type": "code",
      "execution_count": null,
      "metadata": {
        "collapsed": true,
        "id": "aZaBaoF-MTFO"
      },
      "outputs": [],
      "source": [
        "df_m = df['T_filled'].resample('M').mean().reset_index()\n",
        "df_m"
      ]
    },
    {
      "cell_type": "markdown",
      "metadata": {
        "id": "d6Qvu7TpbSsj"
      },
      "source": [
        "### 2.4 Using `flaml` automl package to model the time serial data"
      ]
    },
    {
      "cell_type": "code",
      "execution_count": null,
      "metadata": {
        "collapsed": true,
        "id": "bcIBxBKiMTFO"
      },
      "outputs": [],
      "source": [
        "# 1 initialize an instance of automl\n",
        "automl = AutoML()\n",
        "\n",
        "# 2 use the data excluding last 12 data for training\n",
        "X_train = df_m.iloc[0:len(df_m)-12]\n",
        "\n",
        "# 3 train the model\n",
        "automl.fit(\n",
        "    dataframe=X_train,  # dataframe with the column of timestamp\n",
        "    label=\"T_filled\",  # value column name\n",
        "    period=12,  # time horizon to forecast, e.g., 12 months\n",
        "    task=\"ts_forecast\",\n",
        "    time_budget=15,  # time budget in seconds\n",
        "    log_file_name=\"ts_forecast.log\",\n",
        "    eval_method=\"holdout\",\n",
        "    estimator_list=[\n",
        "        \"lgbm\",\n",
        "        \"xgboost\",\n",
        "        \"extra_tree\",\n",
        "    ],\n",
        ")"
      ]
    },
    {
      "cell_type": "markdown",
      "metadata": {},
      "source": [
        "Notes: \n",
        "holdout is used to split the data into training and testing data, e.g., the last 10% data is used for testing and the rest is used for training. Use `split_ratio` to change the ratio."
      ]
    },
    {
      "cell_type": "code",
      "execution_count": null,
      "metadata": {
        "id": "A27SeHeoMTFO"
      },
      "outputs": [],
      "source": [
        "# 4 use the last 12 data for testing\n",
        "df_m_test = df_m.iloc[len(df_m)-12:]['DATE']"
      ]
    },
    {
      "cell_type": "code",
      "execution_count": null,
      "metadata": {
        "id": "nHUbTRDjMTFO"
      },
      "outputs": [],
      "source": [
        "# 5 precdtion using the model\n",
        "prediction = automl.predict(df_m_test)"
      ]
    },
    {
      "cell_type": "markdown",
      "metadata": {
        "id": "RMN7c0WkcXbR"
      },
      "source": [
        "### 2.5 Ploting"
      ]
    },
    {
      "cell_type": "code",
      "execution_count": null,
      "metadata": {
        "id": "crI-PgKBMTFO"
      },
      "outputs": [],
      "source": [
        "# 6 plot the result\n",
        "fig, ax = plt.subplots(1,1, figsize=(10,3))\n",
        "ax.plot(df_m.iloc[len(df_m)-12:]['T_filled'], label='True')\n",
        "ax.plot(prediction, label='Prediction')\n",
        "date = df_m.iloc[len(df_m)-12:]['DATE'].dt.strftime('%Y-%m')\n",
        "ax.set_xticklabels(date)\n",
        "ax.legend()\n",
        "ax.set_xlabel('Date')\n",
        "ax.set_ylabel('Temperature (F)')\n",
        "ax.set_title('Temperature of Manchester Airport')\n",
        "fig.show()"
      ]
    },
    {
      "cell_type": "markdown",
      "metadata": {
        "id": "YbO_w7ymPUjl"
      },
      "source": [
        "**Additional Questions:**\n",
        "\n",
        "Q: How does time horizon to forecast (the parameter period) will affect the model performance?"
      ]
    },
    {
      "cell_type": "code",
      "execution_count": null,
      "metadata": {
        "id": "0ILmkjSPNwqa"
      },
      "outputs": [],
      "source": [
        "# try to revise the period to 1 month\n",
        "# check and plot the precdtions\n",
        "\n"
      ]
    },
    {
      "cell_type": "markdown",
      "metadata": {
        "id": "iG_09-yBcu1w"
      },
      "source": [
        "### 2.6 calculate the error metrics\n",
        "\n",
        "\\begin{equation}\n",
        "    \\text{MSE} = \\frac{1}{n} \\sum_{i=1}^n (y_i - \\hat{y}_i)^2,\n",
        "\\end{equation}\n",
        "\n",
        "\\begin{equation}\n",
        "    \\text{RMSE} = \\sqrt{\\text{MSE}} = \\sqrt{\\frac{1}{n} \\sum_{i=1}^n (y_i - \\hat{y}_i)^2},\n",
        "\\end{equation}\n",
        "\n",
        "\\begin{equation}\n",
        "    \\text{MAE} = \\frac{1}{n} \\sum_{i=1}^n |y_i - \\hat{y}_i|,\n",
        "\\end{equation}\n",
        "\n",
        "\\begin{equation}\n",
        "    \\text{R2} = 1 - \\frac{\\sum_{i=1}^n (y_i - \\hat{y}_i)^2}{\\sum_{i=1}^n (y_i - \\bar{y_m})^2},\n",
        "\\end{equation}\n",
        "\n",
        "where $y_i$ and $y{\\hat{}}_i$ are the observations and model predictions, respectively; n is the number of samples; $y_m$ is the mean of the observations."
      ]
    },
    {
      "cell_type": "code",
      "execution_count": null,
      "metadata": {
        "id": "YAUNIthKdlni"
      },
      "outputs": [],
      "source": [
        "# example: calculate the MSE, RMSE, MAE and R2 using the equations\n"
      ]
    },
    {
      "cell_type": "markdown",
      "metadata": {
        "id": "w0O3KvbCgYDq"
      },
      "source": [
        "## 3 Daily temperature prediction\n",
        "---"
      ]
    },
    {
      "cell_type": "code",
      "execution_count": null,
      "metadata": {
        "id": "3USVaQ2Jr98b"
      },
      "outputs": [],
      "source": [
        "df_D = df['T_filled'].resample('D').mean().reset_index()"
      ]
    },
    {
      "cell_type": "code",
      "execution_count": null,
      "metadata": {
        "id": "xqd-lkYfPzAd"
      },
      "outputs": [],
      "source": [
        "automl = AutoML()\n",
        "X_train = df_D.iloc[0:len(df_D)-30]\n",
        "X_train['T_filled'] = X_train['T_filled'].fillna(method='ffill')\n",
        "automl.fit(\n",
        "    dataframe=X_train,  # dataframe with the column of timestamp\n",
        "    label=\"T_filled\",  # value column name\n",
        "    period=1,  # time horizon to forecast\n",
        "    task=\"ts_forecast\",\n",
        "    time_budget=60,  # time budget in seconds\n",
        "    log_file_name=\"ts_forecast.log\",\n",
        "    eval_method=\"holdout\",\n",
        "    estimator_list=[\n",
        "        \"lgbm\"\n",
        "    ],\n",
        ")"
      ]
    },
    {
      "cell_type": "code",
      "execution_count": null,
      "metadata": {
        "id": "Q9AXL_afhCt_"
      },
      "outputs": [],
      "source": [
        "test_D = df_D.iloc[len(df_D)-300:]['DATE']\n",
        "prediction = automl.predict(test_D)"
      ]
    },
    {
      "cell_type": "code",
      "execution_count": null,
      "metadata": {
        "id": "bCEwBPXbQ0VL"
      },
      "outputs": [],
      "source": [
        "# ploting\n",
        "fig, ax = plt.subplots(1,1, figsize=(10,3))\n",
        "ax.plot(df_D.iloc[len(df_D)-300:]['T_filled'], label='True')\n",
        "ax.plot(prediction.loc[len(df_D)-300:len(df_D)-30], label='Prediction 1')\n",
        "ax.plot(prediction.loc[len(df_D)-30:], label='Prediction 2')\n",
        "date = df_D.iloc[len(df_D)-300:]['DATE'].dt.strftime('%Y-%m-%d')\n",
        "ax.set_xticklabels(date)\n",
        "ax.legend()\n",
        "ax.set_xlabel('Date')\n",
        "ax.set_ylabel('Temperature (F)')\n",
        "ax.set_title('Temperature of Manchester Airport')\n",
        "fig.show()"
      ]
    },
    {
      "cell_type": "markdown",
      "metadata": {
        "id": "QsCQl_rehhrp"
      },
      "source": [
        "the performances of the model is not good.\n",
        "\n",
        "Q: Why?\n",
        "\n",
        "1. Model are not well trained.\n",
        "2. Task are not suitable for the ML modeling\n",
        "3. Use more variables\n",
        "\n",
        "Try to modify some paramters of automl\n",
        "\n",
        "e.g., increasing the `time_budget`. Please try to increase the `time_budget` to 120 second and see what happen.\n",
        "\n",
        "\n",
        "Q: **Think about the difference in prediction 1 and prediction 2**"
      ]
    },
    {
      "cell_type": "markdown",
      "metadata": {
        "id": "gQBhW02IiRLQ"
      },
      "source": [
        "## 4 Use more variables to help modeling\n",
        "---"
      ]
    },
    {
      "cell_type": "markdown",
      "metadata": {
        "id": "BDycxGh8ioep"
      },
      "source": [
        "here we try to use more variables to help modeling\n",
        "\n",
        "- TMP: temperature\n",
        "- DEW: dew point\n",
        "\n",
        "Q: [**what is dew point?**](https://en.wikipedia.org/wiki/Dew_point)\n",
        "\n",
        "A: The dew point of a given body of air is the temperature to which it must be cooled to become saturated with water vapor. It is very related to the humdity."
      ]
    },
    {
      "cell_type": "code",
      "execution_count": null,
      "metadata": {
        "id": "veU2WyK7RJx-"
      },
      "outputs": [],
      "source": [
        "# 1 define a function to get more variables\n",
        "def isd_data_process(var):\n",
        "  df[var] = df[var].replace(',','.', regex=True).astype(float) # transform the temperature to float\n",
        "  df[f'{var}_filled'] = df[var].apply(lambda x: x if x < 9999 else np.nan).interpolate(method='linear')\n",
        "\n",
        "# 2 select TMP, DEW, SLP\n",
        "for var in ['TMP', 'DEW']:\n",
        "  isd_data_process(var)"
      ]
    },
    {
      "cell_type": "code",
      "execution_count": null,
      "metadata": {
        "id": "ifB_37_gUCHj"
      },
      "outputs": [],
      "source": [
        "df_md = df[['TMP_filled','DEW_filled']].resample('D').mean().reset_index().fillna(method='ffill') # fill the na using ffill\n",
        "automl = AutoML()\n",
        "X_train = df_md.iloc[0:len(df_md)-30]\n",
        "automl.fit(\n",
        "    dataframe=X_train,  # dataframe with the column of timestamp\n",
        "    label=\"TMP_filled\",  # value column name\n",
        "    period=1,  # time horizon to forecast\n",
        "    task=\"ts_forecast\",\n",
        "    time_budget=60,  # time budget in seconds\n",
        "    log_file_name=\"ts_forecast.log\",\n",
        "    eval_method=\"holdout\",\n",
        "    estimator_list=[\n",
        "        \"lgbm\"\n",
        "    ],\n",
        ")"
      ]
    },
    {
      "cell_type": "code",
      "execution_count": null,
      "metadata": {
        "id": "c2VDn5vYjeG5"
      },
      "outputs": [],
      "source": [
        "test_md = df_md.iloc[len(df_md)-300:][['DATE',\t'DEW_filled']]\n",
        "prediction = automl.predict(test_md)"
      ]
    },
    {
      "cell_type": "code",
      "execution_count": null,
      "metadata": {
        "id": "za6RxerRUXOH"
      },
      "outputs": [],
      "source": [
        "# ploting\n",
        "fig, ax = plt.subplots(1,1, figsize=(10,3))\n",
        "ax.plot(df_md.iloc[len(df_md)-300:]['TMP_filled'], label='True')\n",
        "ax.plot(prediction.loc[len(df_md)-300:len(df_md)-30], label='Prediction 1')\n",
        "ax.plot(prediction.loc[len(df_md)-30:], label='Prediction 2')\n",
        "date = df_md.iloc[len(df_md)-300:]['DATE'].dt.strftime('%Y-%m-%d')\n",
        "ax.set_xticklabels(date)\n",
        "ax.legend()\n",
        "ax.set_xlabel('Date')\n",
        "ax.set_ylabel('Temperature (F)')\n",
        "ax.set_title('Temperature of Manchester Airport')\n",
        "fig.show()"
      ]
    },
    {
      "cell_type": "markdown",
      "metadata": {
        "id": "NLuNvUCcA7Je"
      },
      "source": [
        "### Task:\n",
        "---\n",
        "\n",
        "1. Find the XIAOSHAN airport station (China, Hangzhou) data from 2010 to 2023, and fill the missing value if have.\n",
        "\n",
        "2. Train two time-series models\n",
        "\n",
        "    1. montly temperature prediction (1-month period)\n",
        "    \n",
        "    2. daily temperature prediction (3-day periods)\n",
        "\n",
        "    3. try to use different `eval_method` methods.\n",
        "\n",
        "3. Predict the 2024/01--2024/07 monthly temperature and compare the result with the true value.\n",
        "\n",
        "4. Plot and calculate the MAE.\n",
        "\n",
        "*optional: try to train model use Kelvin and Celsius"
      ]
    }
  ],
  "metadata": {
    "colab": {
      "provenance": []
    },
    "kernelspec": {
      "display_name": "pymet",
      "language": "python",
      "name": "python3"
    },
    "language_info": {
      "codemirror_mode": {
        "name": "ipython",
        "version": 3
      },
      "file_extension": ".py",
      "mimetype": "text/x-python",
      "name": "python",
      "nbconvert_exporter": "python",
      "pygments_lexer": "ipython3",
      "version": "3.11.8"
    }
  },
  "nbformat": 4,
  "nbformat_minor": 0
}
